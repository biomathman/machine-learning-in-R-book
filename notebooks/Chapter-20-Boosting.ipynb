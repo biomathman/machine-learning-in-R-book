{
 "cells": [
  {
   "cell_type": "markdown",
   "metadata": {},
   "source": [
    "# Adabag / Adaboost"
   ]
  },
  {
   "cell_type": "markdown",
   "metadata": {},
   "source": [
    "<font style=\"font-size:x-large\">\n",
    "    Basic Idea of Boosting:<br><br>\n",
    "    <ul>\n",
    "    <li> Generate decision trees on multiple training sets<br><br>\n",
    "    <li> Train on residual error rather than total error <br><br>\n",
    "    <li> Iteratively update the residual error and update  <br><br>\n",
    "     \n",
    "    </ul>\n",
    "    </font>"
   ]
  },
  {
   "cell_type": "markdown",
   "metadata": {},
   "source": [
    "### Load Wine data from UCI "
   ]
  },
  {
   "cell_type": "code",
   "execution_count": 2,
   "metadata": {},
   "outputs": [
    {
     "data": {
      "text/html": [
       "'http://archive.ics.uci.edu/ml/machine-learning-databases/wine-quality/winequality-red.csv'"
      ],
      "text/latex": [
       "'http://archive.ics.uci.edu/ml/machine-learning-databases/wine-quality/winequality-red.csv'"
      ],
      "text/markdown": [
       "'http://archive.ics.uci.edu/ml/machine-learning-databases/wine-quality/winequality-red.csv'"
      ],
      "text/plain": [
       "[1] \"http://archive.ics.uci.edu/ml/machine-learning-databases/wine-quality/winequality-red.csv\""
      ]
     },
     "metadata": {},
     "output_type": "display_data"
    }
   ],
   "source": [
    "uci=\"http://archive.ics.uci.edu/\"\n",
    "mld=\"ml/machine-learning-databases/\"\n",
    "redcsv=\"wine-quality/winequality-red.csv\"\n",
    "wineurl=paste(uci,mld,redcsv,sep=\"\")\n",
    "wineurl"
   ]
  },
  {
   "cell_type": "code",
   "execution_count": 3,
   "metadata": {},
   "outputs": [],
   "source": [
    "red.wine.data=read.csv(wineurl, header = TRUE, sep = \";\")"
   ]
  },
  {
   "cell_type": "code",
   "execution_count": 69,
   "metadata": {},
   "outputs": [
    {
     "data": {
      "text/html": [
       "<ol class=list-inline>\n",
       "\t<li>'fixed.acidity'</li>\n",
       "\t<li>'volatile.acidity'</li>\n",
       "\t<li>'citric.acid'</li>\n",
       "\t<li>'residual.sugar'</li>\n",
       "\t<li>'chlorides'</li>\n",
       "\t<li>'free.sulfur.dioxide'</li>\n",
       "\t<li>'total.sulfur.dioxide'</li>\n",
       "\t<li>'density'</li>\n",
       "\t<li>'pH'</li>\n",
       "\t<li>'sulphates'</li>\n",
       "\t<li>'alcohol'</li>\n",
       "\t<li>'quality'</li>\n",
       "</ol>\n"
      ],
      "text/latex": [
       "\\begin{enumerate*}\n",
       "\\item 'fixed.acidity'\n",
       "\\item 'volatile.acidity'\n",
       "\\item 'citric.acid'\n",
       "\\item 'residual.sugar'\n",
       "\\item 'chlorides'\n",
       "\\item 'free.sulfur.dioxide'\n",
       "\\item 'total.sulfur.dioxide'\n",
       "\\item 'density'\n",
       "\\item 'pH'\n",
       "\\item 'sulphates'\n",
       "\\item 'alcohol'\n",
       "\\item 'quality'\n",
       "\\end{enumerate*}\n"
      ],
      "text/markdown": [
       "1. 'fixed.acidity'\n",
       "2. 'volatile.acidity'\n",
       "3. 'citric.acid'\n",
       "4. 'residual.sugar'\n",
       "5. 'chlorides'\n",
       "6. 'free.sulfur.dioxide'\n",
       "7. 'total.sulfur.dioxide'\n",
       "8. 'density'\n",
       "9. 'pH'\n",
       "10. 'sulphates'\n",
       "11. 'alcohol'\n",
       "12. 'quality'\n",
       "\n",
       "\n"
      ],
      "text/plain": [
       " [1] \"fixed.acidity\"        \"volatile.acidity\"     \"citric.acid\"         \n",
       " [4] \"residual.sugar\"       \"chlorides\"            \"free.sulfur.dioxide\" \n",
       " [7] \"total.sulfur.dioxide\" \"density\"              \"pH\"                  \n",
       "[10] \"sulphates\"            \"alcohol\"              \"quality\"             "
      ]
     },
     "metadata": {},
     "output_type": "display_data"
    }
   ],
   "source": [
    "colnames(red.wine.data)"
   ]
  },
  {
   "cell_type": "markdown",
   "metadata": {},
   "source": [
    "## Create test and training sets, 75% for training"
   ]
  },
  {
   "cell_type": "code",
   "execution_count": 5,
   "metadata": {},
   "outputs": [
    {
     "data": {
      "text/html": [
       "1199"
      ],
      "text/latex": [
       "1199"
      ],
      "text/markdown": [
       "1199"
      ],
      "text/plain": [
       "[1] 1199"
      ]
     },
     "metadata": {},
     "output_type": "display_data"
    }
   ],
   "source": [
    "n=nrow(red.wine.data)\n",
    "training.indices=sort(sample(1:n,.75*n))  # use 75% for training\n",
    "train=red.wine.data[training.indices,]\n",
    "test=red.wine.data[-training.indices,]\n",
    "ntrain = nrow(train)\n",
    "ntrain"
   ]
  },
  {
   "cell_type": "code",
   "execution_count": null,
   "metadata": {},
   "outputs": [],
   "source": [
    "#install.packages(\"adabag\", repos='http://cran.us.r-project.org')"
   ]
  },
  {
   "cell_type": "code",
   "execution_count": 51,
   "metadata": {
    "scrolled": true
   },
   "outputs": [],
   "source": [
    "library(rpart)\n",
    "library(adabag)\n",
    "library(caret)"
   ]
  },
  {
   "cell_type": "markdown",
   "metadata": {},
   "source": [
    "## Do boosting. The parameters used are as suggested in the reference manual \n",
    "\n",
    "## The y-data must be a \"factor\"\n",
    "## The x-data should be a data frame"
   ]
  },
  {
   "cell_type": "code",
   "execution_count": 23,
   "metadata": {},
   "outputs": [],
   "source": [
    "train$quality = as.factor(train$quality)"
   ]
  },
  {
   "cell_type": "code",
   "execution_count": 71,
   "metadata": {
    "scrolled": true
   },
   "outputs": [],
   "source": [
    "adaboost.model = boosting(quality~., data=train, \n",
    "   boos=TRUE, \n",
    "   coeflearn=\"Breiman\",\n",
    "   mfinal = 100, \n",
    "   par=FALSE, \n",
    "   control=rpart.control(maxdepth=10, minsplit=15))"
   ]
  },
  {
   "cell_type": "code",
   "execution_count": 72,
   "metadata": {
    "scrolled": false
   },
   "outputs": [
    {
     "data": {
      "text/plain": [
       "           Length Class   Mode     \n",
       "formula       3   formula call     \n",
       "trees       100   -none-  list     \n",
       "weights     100   -none-  numeric  \n",
       "votes      7194   -none-  numeric  \n",
       "prob       7194   -none-  numeric  \n",
       "class      1199   -none-  character\n",
       "importance   11   -none-  numeric  \n",
       "terms         3   terms   call     \n",
       "call          8   -none-  call     "
      ]
     },
     "metadata": {},
     "output_type": "display_data"
    }
   ],
   "source": [
    "summary(adaboost.model) "
   ]
  },
  {
   "cell_type": "markdown",
   "metadata": {},
   "source": [
    "## Do a prediction using the test data"
   ]
  },
  {
   "cell_type": "code",
   "execution_count": 77,
   "metadata": {
    "scrolled": false
   },
   "outputs": [
    {
     "data": {
      "text/plain": [
       "          Length Class   Mode     \n",
       "formula      3   formula call     \n",
       "votes     2400   -none-  numeric  \n",
       "prob      2400   -none-  numeric  \n",
       "class      400   -none-  character\n",
       "confusion   18   table   numeric  \n",
       "error        1   -none-  numeric  "
      ]
     },
     "metadata": {},
     "output_type": "display_data"
    }
   ],
   "source": [
    "boost.predict=predict(adaboost.model, newdata=test)\n",
    "summary(boost.predict)"
   ]
  },
  {
   "cell_type": "markdown",
   "metadata": {},
   "source": [
    "## convert the predictions from the test data into a \"factor\" using the same levels as y data"
   ]
  },
  {
   "cell_type": "code",
   "execution_count": 88,
   "metadata": {},
   "outputs": [],
   "source": [
    "pred=factor(boost.predict$class,level=levels(y.test))"
   ]
  },
  {
   "cell_type": "code",
   "execution_count": 90,
   "metadata": {},
   "outputs": [
    {
     "name": "stdout",
     "output_type": "stream",
     "text": [
      " [1] 5 5 5 5 6 5 5 5 5 6\n",
      "Levels: 3 4 5 6 7 8\n"
     ]
    }
   ],
   "source": [
    "print(pred[1:10])"
   ]
  },
  {
   "cell_type": "markdown",
   "metadata": {},
   "source": [
    "## Generate mult-factor confusion matrix"
   ]
  },
  {
   "cell_type": "code",
   "execution_count": 79,
   "metadata": {},
   "outputs": [
    {
     "data": {
      "text/plain": [
       "Confusion Matrix and Statistics\n",
       "\n",
       "          Reference\n",
       "Prediction   3   4   5   6   7   8\n",
       "         3   0   0   0   0   0   0\n",
       "         4   0   0   0   0   0   0\n",
       "         5   1   9 122  42   2   0\n",
       "         6   0   6  44 103  38   3\n",
       "         7   0   0   0  13  14   3\n",
       "         8   0   0   0   0   0   0\n",
       "\n",
       "Overall Statistics\n",
       "                                          \n",
       "               Accuracy : 0.5975          \n",
       "                 95% CI : (0.5476, 0.6459)\n",
       "    No Information Rate : 0.415           \n",
       "    P-Value [Acc > NIR] : 1.583e-13       \n",
       "                                          \n",
       "                  Kappa : 0.3463          \n",
       " Mcnemar's Test P-Value : NA              \n",
       "\n",
       "Statistics by Class:\n",
       "\n",
       "                     Class: 3 Class: 4 Class: 5 Class: 6 Class: 7 Class: 8\n",
       "Sensitivity            0.0000   0.0000   0.7349   0.6519   0.2593    0.000\n",
       "Specificity            1.0000   1.0000   0.7692   0.6240   0.9538    1.000\n",
       "Pos Pred Value            NaN      NaN   0.6932   0.5309   0.4667      NaN\n",
       "Neg Pred Value         0.9975   0.9625   0.8036   0.7330   0.8919    0.985\n",
       "Prevalence             0.0025   0.0375   0.4150   0.3950   0.1350    0.015\n",
       "Detection Rate         0.0000   0.0000   0.3050   0.2575   0.0350    0.000\n",
       "Detection Prevalence   0.0000   0.0000   0.4400   0.4850   0.0750    0.000\n",
       "Balanced Accuracy      0.5000   0.5000   0.7521   0.6379   0.6065    0.500"
      ]
     },
     "metadata": {},
     "output_type": "display_data"
    }
   ],
   "source": [
    "confusionMatrix(data=pred, reference=y.test)"
   ]
  },
  {
   "cell_type": "code",
   "execution_count": 81,
   "metadata": {
    "scrolled": false
   },
   "outputs": [
    {
     "data": {
      "image/png": "[encoded data removed]",
      "text/plain": [
       "Plot with title “Variable relative importance”"
      ]
     },
     "metadata": {},
     "output_type": "display_data"
    }
   ],
   "source": [
    "importanceplot(adaboost.model)"
   ]
  },
  {
   "cell_type": "code",
   "execution_count": 94,
   "metadata": {},
   "outputs": [
    {
     "data": {
      "image/png": "[encoded data removed]",
      "text/plain": [
       "Plot with title “Ensemble error vs number of trees”"
      ]
     },
     "metadata": {},
     "output_type": "display_data"
    }
   ],
   "source": [
    "options(repr.plot.width=7, repr.plot.height=4)\n",
    "#pdf(\"boosting-wine-tree.pdf\",width=7,height=4)\n",
    "plot(errorevol(adaboost.model,train))\n",
    "grid()\n",
    "#dev.off()"
   ]
  },
  {
   "cell_type": "code",
   "execution_count": null,
   "metadata": {},
   "outputs": [],
   "source": []
  }
 ],
 "metadata": {
  "kernelspec": {
   "display_name": "R",
   "language": "R",
   "name": "ir"
  },
  "language_info": {
   "codemirror_mode": "r",
   "file_extension": ".r",
   "mimetype": "text/x-r-source",
   "name": "R",
   "pygments_lexer": "r",
   "version": "3.4.4"
  }
 },
 "nbformat": 4,
 "nbformat_minor": 2
}
