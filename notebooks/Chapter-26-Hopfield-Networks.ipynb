{
 "cells": [
  {
   "cell_type": "markdown",
   "metadata": {},
   "source": [
    "# Discrete Hopfield Networks"
   ]
  },
  {
   "cell_type": "markdown",
   "metadata": {},
   "source": [
    "<img src=\"pix/hebb.png\">"
   ]
  },
  {
   "cell_type": "markdown",
   "metadata": {},
   "source": [
    "### Basic Rules"
   ]
  },
  {
   "cell_type": "markdown",
   "metadata": {},
   "source": [
    "- Each neuron will represent 1 bit in a bit pattern.\n",
    "\n",
    "- An n-dimensional vector will required n-neurons to represent it, e.g., (1,0,1,1,0) requires 5 neurons.\n",
    "\n",
    "- We will represnt binary values in \"bipolar\" form: 1 means 1, and -1 means 0\n",
    "\n",
    "- neurons use a fire/no fire rule based based on total input $\\sum w_{ij}x_j$\n"
   ]
  },
  {
   "cell_type": "markdown",
   "metadata": {},
   "source": [
    "we will represent three 8 bit patterns\n",
    "\n",
    "binary(x,n) produces an n-bit vector of 1's and 0's representing the decimal integer x\n",
    "bipolar(x) convertes a vector of 1's and 0's to a vectors of 1's and -1's"
   ]
  },
  {
   "cell_type": "code",
   "execution_count": 7,
   "metadata": {},
   "outputs": [],
   "source": [
    "binary=function(x,n){rev(head(as.integer(intToBits(x)),n))}\n",
    "bipolar=function(x){2*x-1}\n",
    "frombinary=function(x){sum(c(128,64,32,16,8,4,2,1)*((x+1)/2))}"
   ]
  },
  {
   "cell_type": "code",
   "execution_count": 8,
   "metadata": {
    "scrolled": true
   },
   "outputs": [
    {
     "data": {
      "text/html": [
       "<table>\n",
       "<tbody>\n",
       "\t<tr><td>-1</td><td>-1</td><td>-1</td><td> 1</td><td>-1</td><td>-1</td><td>-1</td><td> 1</td></tr>\n",
       "\t<tr><td>-1</td><td>-1</td><td>-1</td><td>-1</td><td>-1</td><td>-1</td><td> 1</td><td> 1</td></tr>\n",
       "\t<tr><td>-1</td><td>-1</td><td> 1</td><td>-1</td><td> 1</td><td>-1</td><td> 1</td><td>-1</td></tr>\n",
       "</tbody>\n",
       "</table>\n"
      ],
      "text/latex": [
       "\\begin{tabular}{llllllll}\n",
       "\t -1 & -1 & -1 &  1 & -1 & -1 & -1 &  1\\\\\n",
       "\t -1 & -1 & -1 & -1 & -1 & -1 &  1 &  1\\\\\n",
       "\t -1 & -1 &  1 & -1 &  1 & -1 &  1 & -1\\\\\n",
       "\\end{tabular}\n"
      ],
      "text/markdown": [
       "\n",
       "| -1 | -1 | -1 |  1 | -1 | -1 | -1 |  1 | \n",
       "| -1 | -1 | -1 | -1 | -1 | -1 |  1 |  1 | \n",
       "| -1 | -1 |  1 | -1 |  1 | -1 |  1 | -1 | \n",
       "\n",
       "\n"
      ],
      "text/plain": [
       "     [,1] [,2] [,3] [,4] [,5] [,6] [,7] [,8]\n",
       "[1,] -1   -1   -1    1   -1   -1   -1    1  \n",
       "[2,] -1   -1   -1   -1   -1   -1    1    1  \n",
       "[3,] -1   -1    1   -1    1   -1    1   -1  "
      ]
     },
     "metadata": {},
     "output_type": "display_data"
    }
   ],
   "source": [
    "x1=bipolar(binary(17,8))\n",
    "x2=bipolar(binary(3,8))\n",
    "x3=bipolar(binary(42,8))\n",
    "\n",
    "data=matrix(c(x1, x2, x3),ncol=3)\n",
    "t(data)"
   ]
  },
  {
   "cell_type": "code",
   "execution_count": 30,
   "metadata": {},
   "outputs": [
    {
     "data": {
      "text/html": [
       "<ol class=list-inline>\n",
       "\t<li>1</li>\n",
       "\t<li>1</li>\n",
       "\t<li>1</li>\n",
       "\t<li>1</li>\n",
       "\t<li>0</li>\n",
       "\t<li>1</li>\n",
       "\t<li>0</li>\n",
       "\t<li>0</li>\n",
       "</ol>\n"
      ],
      "text/latex": [
       "\\begin{enumerate*}\n",
       "\\item 1\n",
       "\\item 1\n",
       "\\item 1\n",
       "\\item 1\n",
       "\\item 0\n",
       "\\item 1\n",
       "\\item 0\n",
       "\\item 0\n",
       "\\end{enumerate*}\n"
      ],
      "text/markdown": [
       "1. 1\n",
       "2. 1\n",
       "3. 1\n",
       "4. 1\n",
       "5. 0\n",
       "6. 1\n",
       "7. 0\n",
       "8. 0\n",
       "\n",
       "\n"
      ],
      "text/plain": [
       "[1] 1 1 1 1 0 1 0 0"
      ]
     },
     "metadata": {},
     "output_type": "display_data"
    }
   ],
   "source": [
    "options(width=54)\n",
    "head(as.integer(intToBits(47)),8)"
   ]
  },
  {
   "cell_type": "code",
   "execution_count": 9,
   "metadata": {},
   "outputs": [
    {
     "data": {
      "text/html": [
       "<ol class=list-inline>\n",
       "\t<li>17</li>\n",
       "\t<li>3</li>\n",
       "\t<li>42</li>\n",
       "</ol>\n"
      ],
      "text/latex": [
       "\\begin{enumerate*}\n",
       "\\item 17\n",
       "\\item 3\n",
       "\\item 42\n",
       "\\end{enumerate*}\n"
      ],
      "text/markdown": [
       "1. 17\n",
       "2. 3\n",
       "3. 42\n",
       "\n",
       "\n"
      ],
      "text/plain": [
       "[1] 17  3 42"
      ]
     },
     "metadata": {},
     "output_type": "display_data"
    }
   ],
   "source": [
    "apply(data,2,frombinary) # 2 means apply over columns"
   ]
  },
  {
   "cell_type": "markdown",
   "metadata": {},
   "source": [
    "## Energy function - total energy of the network for any given input vector $\\mathbf{x}$ - is given by\n",
    "\n",
    "## $$\\mathcal{E}=-\\dfrac{1}{2}\\sum x_i w_{ij} x_j = - \\dfrac{1}{2} \\mathbf{x}^\\text{T} \\mathbf{w} \\mathbf{x} $$\n",
    "\n",
    "### This form of the energy function is chosen because updates are guaranteed to decrease the total energy and because it is similar to various models used in thermodynamics."
   ]
  },
  {
   "cell_type": "code",
   "execution_count": 16,
   "metadata": {},
   "outputs": [],
   "source": [
    "energy = function(output.vector, weight.vector){-0.5 * ( output.vector %*% weight.matrix %*% output.vector)} "
   ]
  },
  {
   "cell_type": "markdown",
   "metadata": {},
   "source": [
    "## Learning rule is \"neurons that fire together wire together\" \n",
    "\n",
    "## $$\\Delta  w_{ij} = \\eta x_i x_j$$\n",
    "\n",
    "## Matrix form: $$\\Delta \\mathbf{w} = \\eta \\mathbf{x} \\mathbf{x}^\\text{T}$$"
   ]
  },
  {
   "cell_type": "markdown",
   "metadata": {},
   "source": [
    "### We can initialize the weight matrix as \n",
    "\n",
    "## $$\\dfrac{1}{d} \\sum_{k=1}^n \\mathbf{x}_k \\mathbf{x}^\\text{T}_j$$\n",
    "\n",
    "### $n$ is the number of training vectors and $d$ is the dimension of each vector ( = number of neurons)"
   ]
  },
  {
   "cell_type": "code",
   "execution_count": 10,
   "metadata": {},
   "outputs": [],
   "source": [
    "initialize.hopfield.weights=function(data){\n",
    "    n=ncol(data)\n",
    "    w=0\n",
    "    for (j in 1:n){\n",
    "        x = data[,j]\n",
    "        #\n",
    "        # the following two lines add x[k]*x[ell] to every w[k,ell]\n",
    "        #\n",
    "        weight.updates = x %*% t(x)\n",
    "        w = w+ weight.updates\n",
    "    }\n",
    "    w/length(x)\n",
    "}\n",
    "\n",
    "weight.matrix=initialize.hopfield.weights(data)"
   ]
  },
  {
   "cell_type": "markdown",
   "metadata": {},
   "source": [
    "- ## tecnhically we should subtract the identity matrix from the weight function\n",
    "- ## otherwise we have nodes that are self interacting.\n",
    "- ## it doesn't really matter in the long run\n",
    "- ## the only difference is that the diagonal of w will be all zero"
   ]
  },
  {
   "cell_type": "code",
   "execution_count": 14,
   "metadata": {},
   "outputs": [
    {
     "data": {
      "text/html": [
       "<table>\n",
       "<tbody>\n",
       "\t<tr><td> 0.375</td><td> 0.375</td><td> 0.125</td><td> 0.125</td><td> 0.125</td><td> 0.375</td><td>-0.125</td><td>-0.125</td></tr>\n",
       "\t<tr><td> 0.375</td><td> 0.375</td><td> 0.125</td><td> 0.125</td><td> 0.125</td><td> 0.375</td><td>-0.125</td><td>-0.125</td></tr>\n",
       "\t<tr><td> 0.125</td><td> 0.125</td><td> 0.375</td><td>-0.125</td><td> 0.375</td><td> 0.125</td><td> 0.125</td><td>-0.375</td></tr>\n",
       "\t<tr><td> 0.125</td><td> 0.125</td><td>-0.125</td><td> 0.375</td><td>-0.125</td><td> 0.125</td><td>-0.375</td><td> 0.125</td></tr>\n",
       "\t<tr><td> 0.125</td><td> 0.125</td><td> 0.375</td><td>-0.125</td><td> 0.375</td><td> 0.125</td><td> 0.125</td><td>-0.375</td></tr>\n",
       "\t<tr><td> 0.375</td><td> 0.375</td><td> 0.125</td><td> 0.125</td><td> 0.125</td><td> 0.375</td><td>-0.125</td><td>-0.125</td></tr>\n",
       "\t<tr><td>-0.125</td><td>-0.125</td><td> 0.125</td><td>-0.375</td><td> 0.125</td><td>-0.125</td><td> 0.375</td><td>-0.125</td></tr>\n",
       "\t<tr><td>-0.125</td><td>-0.125</td><td>-0.375</td><td> 0.125</td><td>-0.375</td><td>-0.125</td><td>-0.125</td><td> 0.375</td></tr>\n",
       "</tbody>\n",
       "</table>\n"
      ],
      "text/latex": [
       "\\begin{tabular}{llllllll}\n",
       "\t  0.375 &  0.375 &  0.125 &  0.125 &  0.125 &  0.375 & -0.125 & -0.125\\\\\n",
       "\t  0.375 &  0.375 &  0.125 &  0.125 &  0.125 &  0.375 & -0.125 & -0.125\\\\\n",
       "\t  0.125 &  0.125 &  0.375 & -0.125 &  0.375 &  0.125 &  0.125 & -0.375\\\\\n",
       "\t  0.125 &  0.125 & -0.125 &  0.375 & -0.125 &  0.125 & -0.375 &  0.125\\\\\n",
       "\t  0.125 &  0.125 &  0.375 & -0.125 &  0.375 &  0.125 &  0.125 & -0.375\\\\\n",
       "\t  0.375 &  0.375 &  0.125 &  0.125 &  0.125 &  0.375 & -0.125 & -0.125\\\\\n",
       "\t -0.125 & -0.125 &  0.125 & -0.375 &  0.125 & -0.125 &  0.375 & -0.125\\\\\n",
       "\t -0.125 & -0.125 & -0.375 &  0.125 & -0.375 & -0.125 & -0.125 &  0.375\\\\\n",
       "\\end{tabular}\n"
      ],
      "text/markdown": [
       "\n",
       "|  0.375 |  0.375 |  0.125 |  0.125 |  0.125 |  0.375 | -0.125 | -0.125 | \n",
       "|  0.375 |  0.375 |  0.125 |  0.125 |  0.125 |  0.375 | -0.125 | -0.125 | \n",
       "|  0.125 |  0.125 |  0.375 | -0.125 |  0.375 |  0.125 |  0.125 | -0.375 | \n",
       "|  0.125 |  0.125 | -0.125 |  0.375 | -0.125 |  0.125 | -0.375 |  0.125 | \n",
       "|  0.125 |  0.125 |  0.375 | -0.125 |  0.375 |  0.125 |  0.125 | -0.375 | \n",
       "|  0.375 |  0.375 |  0.125 |  0.125 |  0.125 |  0.375 | -0.125 | -0.125 | \n",
       "| -0.125 | -0.125 |  0.125 | -0.375 |  0.125 | -0.125 |  0.375 | -0.125 | \n",
       "| -0.125 | -0.125 | -0.375 |  0.125 | -0.375 | -0.125 | -0.125 |  0.375 | \n",
       "\n",
       "\n"
      ],
      "text/plain": [
       "     [,1]   [,2]   [,3]   [,4]   [,5]   [,6]   [,7]   [,8]  \n",
       "[1,]  0.375  0.375  0.125  0.125  0.125  0.375 -0.125 -0.125\n",
       "[2,]  0.375  0.375  0.125  0.125  0.125  0.375 -0.125 -0.125\n",
       "[3,]  0.125  0.125  0.375 -0.125  0.375  0.125  0.125 -0.375\n",
       "[4,]  0.125  0.125 -0.125  0.375 -0.125  0.125 -0.375  0.125\n",
       "[5,]  0.125  0.125  0.375 -0.125  0.375  0.125  0.125 -0.375\n",
       "[6,]  0.375  0.375  0.125  0.125  0.125  0.375 -0.125 -0.125\n",
       "[7,] -0.125 -0.125  0.125 -0.375  0.125 -0.125  0.375 -0.125\n",
       "[8,] -0.125 -0.125 -0.375  0.125 -0.375 -0.125 -0.125  0.375"
      ]
     },
     "metadata": {},
     "output_type": "display_data"
    }
   ],
   "source": [
    "weight.matrix"
   ]
  },
  {
   "cell_type": "markdown",
   "metadata": {},
   "source": [
    "reference: this implementation is based on James Freman, Simulating Neural Networks with Mathematica (translated into R)\n",
    "\n",
    "if the net input to a neuron is positive/negative, the output becomes 1/-1. If the net input is zero, then use whatever was already stored there as the output. This is the raw function inside decision. Then use mapply to evaluated this on a full vector."
   ]
  },
  {
   "cell_type": "code",
   "execution_count": 12,
   "metadata": {},
   "outputs": [],
   "source": [
    "decision = function(xvec, net){\n",
    "    \n",
    "    mapply(\n",
    "        function(x,netin){\n",
    "            if (netin > 0) 1\n",
    "            else if (netin < 0) -1\n",
    "            else x        \n",
    "        },\n",
    "        xvec,\n",
    "        net)    \n",
    "}"
   ]
  },
  {
   "cell_type": "markdown",
   "metadata": {},
   "source": [
    "# Evaluate  Hopfield net against an input vector"
   ]
  },
  {
   "cell_type": "code",
   "execution_count": 45,
   "metadata": {},
   "outputs": [],
   "source": [
    "hopfield=function(input.vector, weights){\n",
    "    tol = 0.001            # convergence tolerance\n",
    "    max.steps = 1000      # emergencey evacuation\n",
    "    \n",
    "    # initialize energy function\n",
    "    \n",
    "    new.energy = energy(data[,1],weights)\n",
    "    \n",
    "    converged = FALSE\n",
    "    x=input.vector\n",
    "    j=0\n",
    "    while ((!converged) & (j<max.steps)) {   \n",
    "        \n",
    "        # calculate total input to network\n",
    "        \n",
    "        net.input = weights %*% x\n",
    "        \n",
    "        # calculate ouput of all nodes\n",
    "        \n",
    "        # output = phi(x,net.input)\n",
    "        output = decision(x, net.input)\n",
    "        \n",
    "        # update energe and see if it has changed\n",
    "        \n",
    "        old.energy=new.energy\n",
    "        new.energy = energy(output, weights)\n",
    "        \n",
    "        # save output as x for next iteratoin\n",
    "        x=output\n",
    "        \n",
    "        # test for convergence\n",
    "        converged = (abs(old.energy-new.energy)<tol) \n",
    "        j = j+1\n",
    "        }\n",
    "    print(paste(\"converged after j=\",j,\" iterations;  result=\",frombinary(x)))\n",
    "    }"
   ]
  },
  {
   "cell_type": "code",
   "execution_count": 46,
   "metadata": {
    "scrolled": true
   },
   "outputs": [
    {
     "name": "stdout",
     "output_type": "stream",
     "text": [
      "[1] \"converged after j= 1  iterations;  result= 3\"\n",
      "[1] \"converged after j= 1  iterations;  result= 17\"\n",
      "[1] \"converged after j= 1  iterations;  result= 17\"\n",
      "[1] \"converged after j= 1  iterations;  result= 3\"\n"
     ]
    }
   ],
   "source": [
    "for (k in 15:18){hopfield(bipolar(binary(k,8)), weight.matrix)}  # these are close to 17"
   ]
  },
  {
   "cell_type": "code",
   "execution_count": 47,
   "metadata": {
    "scrolled": true
   },
   "outputs": [
    {
     "name": "stdout",
     "output_type": "stream",
     "text": [
      "[1] \"converged after j= 2  iterations;  result= 1\"\n",
      "[1] \"converged after j= 1  iterations;  result= 3\"\n",
      "[1] \"converged after j= 1  iterations;  result= 3\"\n",
      "[1] \"converged after j= 2  iterations;  result= 1\"\n"
     ]
    }
   ],
   "source": [
    "for (k in 1:4){hopfield(bipolar(binary(k,8)), weight.matrix)}  # these are close to 3"
   ]
  },
  {
   "cell_type": "code",
   "execution_count": 48,
   "metadata": {},
   "outputs": [
    {
     "name": "stdout",
     "output_type": "stream",
     "text": [
      "[1] \"converged after j= 1  iterations;  result= 3\"\n",
      "[1] \"converged after j= 2  iterations;  result= 42\"\n",
      "[1] \"converged after j= 3  iterations;  result= 42\"\n",
      "[1] \"converged after j= 2  iterations;  result= 42\"\n",
      "[1] \"converged after j= 2  iterations;  result= 42\"\n",
      "[1] \"converged after j= 3  iterations;  result= 42\"\n",
      "[1] \"converged after j= 2  iterations;  result= 42\"\n",
      "[1] \"converged after j= 2  iterations;  result= 42\"\n",
      "[1] \"converged after j= 2  iterations;  result= 42\"\n",
      "[1] \"converged after j= 1  iterations;  result= 17\"\n"
     ]
    }
   ],
   "source": [
    "for (k in 39:48){hopfield(bipolar(binary(k,8)), weight.matrix)}  # these are close to 42"
   ]
  },
  {
   "cell_type": "raw",
   "metadata": {},
   "source": []
  },
  {
   "cell_type": "markdown",
   "metadata": {},
   "source": [
    "# <font color=\"red\">Problem with Hopfield net:</font>\n",
    "- # there may be multiple energy minimums\n",
    "- # the network may find a local minimum and not a global minimum\n",
    "\n",
    "# <font color=\"red\">One solution: Stochastic Hopfield Network </font>\n",
    "- # replaces discrete fire/no-fire (yes/no) choice with probability function for firing\n",
    "\n",
    "# $$\n",
    "P = \\dfrac{1}{1+e^{-(\\mathcal{E}/T) }}\n",
    "$$\n",
    "\n",
    "- # gradually change probability function over time to approach the discrete yes/no choice\n",
    "> -  ## for large T this is a logistic function\n",
    "> -  ## as $T\\to 0$ this approaches a step function in the activation\n",
    "- # Simulated annealing \n",
    "> - ## Start with a large T (\"temperature\")\n",
    "> - ## Each time the network reaches an equilibrium at any given T, reduce T\n",
    "> - ## Continute the process\n",
    "- # Implementation\n",
    "> - ## need to modify the psi function to include the probability. "
   ]
  },
  {
   "cell_type": "markdown",
   "metadata": {},
   "source": [
    "## Where to learn more: \n",
    "\n",
    "- ## Download and install the Stutgart Neural Network Simulator SNNS (its kind of old) but you can still play with it. http://www.ra.cs.uni-tuebingen.de/software/JavaNNS/ \n",
    "- ## it is a stand-alone simulator and does not require R or Python but it does require Java, which is always tricky\n",
    "- there is a wrapper for SNNS for R that lets you call all the functions in SNNS once you get used to it"
   ]
  },
  {
   "cell_type": "code",
   "execution_count": null,
   "metadata": {},
   "outputs": [],
   "source": []
  }
 ],
 "metadata": {
  "kernelspec": {
   "display_name": "R",
   "language": "R",
   "name": "ir"
  },
  "language_info": {
   "codemirror_mode": "r",
   "file_extension": ".r",
   "mimetype": "text/x-r-source",
   "name": "R",
   "pygments_lexer": "r",
   "version": "3.4.4"
  }
 },
 "nbformat": 4,
 "nbformat_minor": 2
}
