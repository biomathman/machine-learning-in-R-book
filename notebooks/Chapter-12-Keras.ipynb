{
 "cells": [
  {
   "cell_type": "markdown",
   "metadata": {},
   "source": [
    "# Deep Learning Software Packages"
   ]
  },
  {
   "cell_type": "markdown",
   "metadata": {},
   "source": [
    "- ## TensorFlow (https://www.tensorflow.org/ ) \n",
    "> - ## Originally from Google\n",
    "> - ## probably the most commonly used neural net package today\n",
    "> - ## Official API's in Python and C++\n",
    "> - ## Third Party wrapper API's in many different languages, including R through Keras\n",
    "\n"
   ]
  },
  {
   "cell_type": "markdown",
   "metadata": {},
   "source": [
    "- ## CNTK (Microsoft Cognitive Neural Tool Kit, https://www.microsoft.com/en-us/cognitive-toolkit/)\n",
    ">> - ## Primarily Python library\n",
    ">> - ## Can be run as a stand-alone program via ``Brainscript'' scripting language \n",
    ">>> - ### https://docs.microsoft.com/en-us/cognitive-toolkit/brainscript-basic-concepts \n"
   ]
  },
  {
   "cell_type": "markdown",
   "metadata": {},
   "source": [
    "- ## Keras (https://keras.io/)\n",
    "> - ## A neural network library for Python\n",
    "> - ## Includes wrappers for other types of system such as tensorflow and cntk\n",
    "> - ## Easy to install in R (there is a package called keras)"
   ]
  },
  {
   "cell_type": "code",
   "execution_count": 189,
   "metadata": {},
   "outputs": [
    {
     "name": "stderr",
     "output_type": "stream",
     "text": [
      "Installing package into ‘/home/mathman/R/x86_64-pc-linux-gnu-library/3.4’\n",
      "(as ‘lib’ is unspecified)\n"
     ]
    }
   ],
   "source": [
    "install.packages(\"keras\")"
   ]
  },
  {
   "cell_type": "code",
   "execution_count": 31,
   "metadata": {},
   "outputs": [],
   "source": [
    "library(keras)"
   ]
  },
  {
   "cell_type": "markdown",
   "metadata": {},
   "source": [
    "The Keras documentation says that the following will install Keras and TensorFlow to run on your CPU. It also says that there are additional installations if you want to take advantage of GPU, but that they are not loaded in the following command, but can be loaded"
   ]
  },
  {
   "cell_type": "code",
   "execution_count": 191,
   "metadata": {
    "scrolled": true
   },
   "outputs": [
    {
     "name": "stdout",
     "output_type": "stream",
     "text": [
      "Using existing virtualenv at  ~/.virtualenvs/r-tensorflow \n",
      "Upgrading pip ...\n",
      "Upgrading wheel ...\n",
      "Upgrading setuptools ...\n",
      "Installing TensorFlow ...\n",
      "\n",
      "Installation complete.\n",
      "\n"
     ]
    }
   ],
   "source": [
    "install_keras()"
   ]
  },
  {
   "cell_type": "markdown",
   "metadata": {},
   "source": [
    "On Linux, the first time I did this, it told me that I had to install some additional software and gave me the following error message. Presumably it will tell you where to go to get the needed software on other OS's.\n",
    "\n",
    "<code>\n",
    "Error: Prerequisites for installing TensorFlow not available.<br>\n",
    "Execute the following at a terminal to install the prerequisites:<br>\n",
    "$ sudo apt-get install python-pip python-virtualenv\n",
    "</code>"
   ]
  },
  {
   "cell_type": "markdown",
   "metadata": {},
   "source": [
    "# MNIST Data Set\n",
    "### Modified National Institute of Standards and Technology"
   ]
  },
  {
   "cell_type": "markdown",
   "metadata": {},
   "source": [
    "## A database of handwritten letters \n",
    "### available at http://yann.lecun.com/exdb/mnist/\n",
    "- > ### 60,000 Training images\n",
    "- > ### 10,000 Testing images"
   ]
  },
  {
   "cell_type": "markdown",
   "metadata": {},
   "source": [
    "<img src=\"pix/some-letters-crop.png\">"
   ]
  },
  {
   "cell_type": "markdown",
   "metadata": {},
   "source": [
    "#### We will vist how to produce this image (shown above) from the data set at the bottom of this notebook"
   ]
  },
  {
   "cell_type": "code",
   "execution_count": 1,
   "metadata": {},
   "outputs": [],
   "source": [
    "library(keras)"
   ]
  },
  {
   "cell_type": "code",
   "execution_count": 2,
   "metadata": {},
   "outputs": [
    {
     "ename": "ERROR",
     "evalue": "Error: ImportError: cannot import name abs\n\nDetailed traceback: \n  File \"/home/mathman/.virtualenvs/r-tensorflow/lib/python2.7/site-packages/keras/__init__.py\", line 3, in <module>\n    from . import utils\n  File \"/home/mathman/.virtualenvs/r-tensorflow/lib/python2.7/site-packages/keras/utils/__init__.py\", line 6, in <module>\n    from . import conv_utils\n  File \"/home/mathman/.virtualenvs/r-tensorflow/lib/python2.7/site-packages/keras/utils/conv_utils.py\", line 9, in <module>\n    from .. import backend as K\n  File \"/home/mathman/.virtualenvs/r-tensorflow/lib/python2.7/site-packages/keras/backend/__init__.py\", line 89, in <module>\n    from .tensorflow_backend import *\n  File \"/home/mathman/.virtualenvs/r-tensorflow/lib/python2.7/site-packages/keras/backend/tensorflow_backend.py\", line 5, in <module>\n    import tensorflow as tf\n  File \"/home/mathman/.virtualenvs/r-tensorflow/lib/python2.7/site-packages/tensorflow/__init__.py\", line 22, in <module>\n    from tensorflow.python import pywrap_tensorflow  # pylint: disable=unused-import\n  File \"/home/mathman/.virtualenvs/r-tensorflow/lib/python2.7/site-packages/tensorflow/python/__init__.py\", line 81, in <module>\n    from tensorflow.python import keras\n  File \"/home/mathman/.virtualenvs/r-tensorflow/lib/python2.7/site-packages/tensorflow/python/keras/__init__.py\", line 24, in <module>\n    from tensorflow.python.keras import activations\n  File \"/home/mathman/.virtualenvs/r-tensorflow/lib/python2.7/site-packages/tensorflow/python/keras/activations/__init__.py\", line 22, in <module>\n    from tensorflow.python.keras._impl.keras.activations import elu\n  File \"/home/mathman/.virtualenvs/r-tensorflow/lib/python2.7/site-packages/tensorflow/python/keras/_impl/keras/__init__.py\", line 21, in <module>\n    from tensorflow.python.keras._impl.keras import activations\n  File \"/home/mathman/.virtualenvs/r-tensorflow/lib/python2.7/site-packages/tensorflow/python/keras/_impl/keras/activations.py\", line 23, in <module>\n    from tensorflow.python.keras._impl.keras import backend as K\n  File \"/home/mathman/.virtualenvs/r-tensorflow/lib/python2.7/site-packages/tensorflow/python/keras/_impl/keras/backend.py\", line 38, in <module>\n    from tensorflow.python.layers import base as tf_base_layers\n  File \"/home/mathman/.virtualenvs/r-tensorflow/lib/python2.7/site-packages/tensorflow/python/layers/base.py\", line 25, in <module>\n    from tensorflow.python.keras.engine import base_layer\n  File \"/home/mathman/.virtualenvs/r-tensorflow/lib/python2.7/site-packages/tensorflow/python/keras/engine/__init__.py\", line 21, in <module>\n    from tensorflow.python.keras.engine.base_layer import InputSpec\n  File \"/home/mathman/.virtualenvs/r-tensorflow/lib/python2.7/site-packages/tensorflow/python/keras/engine/base_layer.py\", line 33, in <module>\n    from tensorflow.python.keras import backend\n  File \"/home/mathman/.virtualenvs/r-tensorflow/lib/python2.7/site-packages/tensorflow/python/keras/backend/__init__.py\", line 22, in <module>\n    from tensorflow.python.keras._impl.keras.backend import abs\n\n",
     "output_type": "error",
     "traceback": [
      "Error: ImportError: cannot import name abs\n\nDetailed traceback: \n  File \"/home/mathman/.virtualenvs/r-tensorflow/lib/python2.7/site-packages/keras/__init__.py\", line 3, in <module>\n    from . import utils\n  File \"/home/mathman/.virtualenvs/r-tensorflow/lib/python2.7/site-packages/keras/utils/__init__.py\", line 6, in <module>\n    from . import conv_utils\n  File \"/home/mathman/.virtualenvs/r-tensorflow/lib/python2.7/site-packages/keras/utils/conv_utils.py\", line 9, in <module>\n    from .. import backend as K\n  File \"/home/mathman/.virtualenvs/r-tensorflow/lib/python2.7/site-packages/keras/backend/__init__.py\", line 89, in <module>\n    from .tensorflow_backend import *\n  File \"/home/mathman/.virtualenvs/r-tensorflow/lib/python2.7/site-packages/keras/backend/tensorflow_backend.py\", line 5, in <module>\n    import tensorflow as tf\n  File \"/home/mathman/.virtualenvs/r-tensorflow/lib/python2.7/site-packages/tensorflow/__init__.py\", line 22, in <module>\n    from tensorflow.python import pywrap_tensorflow  # pylint: disable=unused-import\n  File \"/home/mathman/.virtualenvs/r-tensorflow/lib/python2.7/site-packages/tensorflow/python/__init__.py\", line 81, in <module>\n    from tensorflow.python import keras\n  File \"/home/mathman/.virtualenvs/r-tensorflow/lib/python2.7/site-packages/tensorflow/python/keras/__init__.py\", line 24, in <module>\n    from tensorflow.python.keras import activations\n  File \"/home/mathman/.virtualenvs/r-tensorflow/lib/python2.7/site-packages/tensorflow/python/keras/activations/__init__.py\", line 22, in <module>\n    from tensorflow.python.keras._impl.keras.activations import elu\n  File \"/home/mathman/.virtualenvs/r-tensorflow/lib/python2.7/site-packages/tensorflow/python/keras/_impl/keras/__init__.py\", line 21, in <module>\n    from tensorflow.python.keras._impl.keras import activations\n  File \"/home/mathman/.virtualenvs/r-tensorflow/lib/python2.7/site-packages/tensorflow/python/keras/_impl/keras/activations.py\", line 23, in <module>\n    from tensorflow.python.keras._impl.keras import backend as K\n  File \"/home/mathman/.virtualenvs/r-tensorflow/lib/python2.7/site-packages/tensorflow/python/keras/_impl/keras/backend.py\", line 38, in <module>\n    from tensorflow.python.layers import base as tf_base_layers\n  File \"/home/mathman/.virtualenvs/r-tensorflow/lib/python2.7/site-packages/tensorflow/python/layers/base.py\", line 25, in <module>\n    from tensorflow.python.keras.engine import base_layer\n  File \"/home/mathman/.virtualenvs/r-tensorflow/lib/python2.7/site-packages/tensorflow/python/keras/engine/__init__.py\", line 21, in <module>\n    from tensorflow.python.keras.engine.base_layer import InputSpec\n  File \"/home/mathman/.virtualenvs/r-tensorflow/lib/python2.7/site-packages/tensorflow/python/keras/engine/base_layer.py\", line 33, in <module>\n    from tensorflow.python.keras import backend\n  File \"/home/mathman/.virtualenvs/r-tensorflow/lib/python2.7/site-packages/tensorflow/python/keras/backend/__init__.py\", line 22, in <module>\n    from tensorflow.python.keras._impl.keras.backend import abs\n\nTraceback:\n",
      "1. dataset_mnist()",
      "2. keras$datasets",
      "3. `$.python.builtin.module`(keras, datasets)",
      "4. py_resolve_module_proxy(x)",
      "5. on_error(result)",
      "6. stop(e$message, call. = FALSE)"
     ]
    }
   ],
   "source": [
    "MNIST=dataset_mnist()"
   ]
  },
  {
   "cell_type": "code",
   "execution_count": 33,
   "metadata": {},
   "outputs": [
    {
     "data": {
      "text/plain": [
       "      Length Class  Mode\n",
       "train 2      -none- list\n",
       "test  2      -none- list"
      ]
     },
     "metadata": {},
     "output_type": "display_data"
    }
   ],
   "source": [
    "summary(MNIST)"
   ]
  },
  {
   "cell_type": "code",
   "execution_count": 34,
   "metadata": {},
   "outputs": [
    {
     "data": {
      "text/plain": [
       "  Length   Class  Mode   \n",
       "x 47040000 -none- numeric\n",
       "y    60000 -none- numeric"
      ]
     },
     "metadata": {},
     "output_type": "display_data"
    }
   ],
   "source": [
    "summary(MNIST$train)"
   ]
  },
  {
   "cell_type": "code",
   "execution_count": 5,
   "metadata": {},
   "outputs": [
    {
     "data": {
      "text/plain": [
       "   Min. 1st Qu.  Median    Mean 3rd Qu.    Max. \n",
       "   0.00    0.00    0.00   33.32    0.00  255.00 "
      ]
     },
     "metadata": {},
     "output_type": "display_data"
    }
   ],
   "source": [
    "summary(MNIST$train$x)"
   ]
  },
  {
   "cell_type": "code",
   "execution_count": 6,
   "metadata": {},
   "outputs": [
    {
     "data": {
      "text/plain": [
       "   Min. 1st Qu.  Median    Mean 3rd Qu.    Max. \n",
       "  0.000   2.000   4.000   4.454   7.000   9.000 "
      ]
     },
     "metadata": {},
     "output_type": "display_data"
    }
   ],
   "source": [
    "summary(MNIST$train$y)"
   ]
  },
  {
   "cell_type": "markdown",
   "metadata": {},
   "source": [
    "## Processing the x-data\n",
    "\n",
    "Processing the raw data from the library (data description at http://yann.lecun.com/exdb/mnist/ and also in https://cran.r-project.org/web/packages/keras/vignettes/getting_started.html )\n",
    "- The x data in the raw data file is give as a 3-d array (images,width,height) of grayscale values . \n",
    "- Each image must be reshaped into a single dimension for training.\n",
    "- The 28x28 images are flattened in length 784 vectors\n",
    "- The grayscales are given in a range 0-255, we converge to 0-1. \n",
    "- Each image will be represented by a length 784 column vector"
   ]
  },
  {
   "cell_type": "code",
   "execution_count": 7,
   "metadata": {},
   "outputs": [
    {
     "data": {
      "text/html": [
       "<ol class=list-inline>\n",
       "\t<li>60000</li>\n",
       "\t<li>28</li>\n",
       "\t<li>28</li>\n",
       "</ol>\n"
      ],
      "text/latex": [
       "\\begin{enumerate*}\n",
       "\\item 60000\n",
       "\\item 28\n",
       "\\item 28\n",
       "\\end{enumerate*}\n"
      ],
      "text/markdown": [
       "1. 60000\n",
       "2. 28\n",
       "3. 28\n",
       "\n",
       "\n"
      ],
      "text/plain": [
       "[1] 60000    28    28"
      ]
     },
     "metadata": {},
     "output_type": "display_data"
    }
   ],
   "source": [
    "dim(MNIST$train$x) # original data has 3 dimensions"
   ]
  },
  {
   "cell_type": "code",
   "execution_count": 8,
   "metadata": {},
   "outputs": [
    {
     "data": {
      "text/html": [
       "<ol class=list-inline>\n",
       "\t<li>10000</li>\n",
       "\t<li>28</li>\n",
       "\t<li>28</li>\n",
       "</ol>\n"
      ],
      "text/latex": [
       "\\begin{enumerate*}\n",
       "\\item 10000\n",
       "\\item 28\n",
       "\\item 28\n",
       "\\end{enumerate*}\n"
      ],
      "text/markdown": [
       "1. 10000\n",
       "2. 28\n",
       "3. 28\n",
       "\n",
       "\n"
      ],
      "text/plain": [
       "[1] 10000    28    28"
      ]
     },
     "metadata": {},
     "output_type": "display_data"
    }
   ],
   "source": [
    "dim(MNIST$test$x)"
   ]
  },
  {
   "cell_type": "markdown",
   "metadata": {},
   "source": [
    "convert the dataset so that each column represents one 28x28 images and scale the data"
   ]
  },
  {
   "cell_type": "code",
   "execution_count": 35,
   "metadata": {},
   "outputs": [],
   "source": [
    "n=60000\n",
    "x.train = array_reshape(MNIST$train$x, c(n, 784))/255"
   ]
  },
  {
   "cell_type": "code",
   "execution_count": 36,
   "metadata": {},
   "outputs": [],
   "source": [
    "ntest=10000\n",
    "x.test = array_reshape(MNIST$test$x, c(ntest,784))/255"
   ]
  },
  {
   "cell_type": "code",
   "execution_count": 11,
   "metadata": {},
   "outputs": [
    {
     "data": {
      "text/html": [
       "<ol class=list-inline>\n",
       "\t<li>60000</li>\n",
       "\t<li>784</li>\n",
       "</ol>\n"
      ],
      "text/latex": [
       "\\begin{enumerate*}\n",
       "\\item 60000\n",
       "\\item 784\n",
       "\\end{enumerate*}\n"
      ],
      "text/markdown": [
       "1. 60000\n",
       "2. 784\n",
       "\n",
       "\n"
      ],
      "text/plain": [
       "[1] 60000   784"
      ]
     },
     "metadata": {},
     "output_type": "display_data"
    }
   ],
   "source": [
    "dim(x.train)"
   ]
  },
  {
   "cell_type": "code",
   "execution_count": 12,
   "metadata": {},
   "outputs": [
    {
     "data": {
      "text/html": [
       "<ol class=list-inline>\n",
       "\t<li>10000</li>\n",
       "\t<li>784</li>\n",
       "</ol>\n"
      ],
      "text/latex": [
       "\\begin{enumerate*}\n",
       "\\item 10000\n",
       "\\item 784\n",
       "\\end{enumerate*}\n"
      ],
      "text/markdown": [
       "1. 10000\n",
       "2. 784\n",
       "\n",
       "\n"
      ],
      "text/plain": [
       "[1] 10000   784"
      ]
     },
     "metadata": {},
     "output_type": "display_data"
    }
   ],
   "source": [
    "dim(x.test)"
   ]
  },
  {
   "cell_type": "markdown",
   "metadata": {},
   "source": [
    "The test and training data have now been converted to column vectors"
   ]
  },
  {
   "cell_type": "markdown",
   "metadata": {},
   "source": [
    "## Processing the y- data\n",
    "\n",
    "- ### The y data is stored as a lists of numbers from 0 through 9\n",
    "- ### each label tells us what the corresponding image represents\n",
    "- ### we will convert these data to categories\n"
   ]
  },
  {
   "cell_type": "code",
   "execution_count": 13,
   "metadata": {},
   "outputs": [
    {
     "data": {
      "text/html": [
       "<ol class=list-inline>\n",
       "\t<li>5</li>\n",
       "\t<li>0</li>\n",
       "\t<li>4</li>\n",
       "\t<li>1</li>\n",
       "\t<li>9</li>\n",
       "\t<li>2</li>\n",
       "\t<li>1</li>\n",
       "\t<li>3</li>\n",
       "\t<li>1</li>\n",
       "\t<li>4</li>\n",
       "\t<li>3</li>\n",
       "\t<li>5</li>\n",
       "\t<li>3</li>\n",
       "\t<li>6</li>\n",
       "\t<li>1</li>\n",
       "\t<li>7</li>\n",
       "\t<li>2</li>\n",
       "\t<li>8</li>\n",
       "\t<li>6</li>\n",
       "\t<li>9</li>\n",
       "\t<li>4</li>\n",
       "\t<li>0</li>\n",
       "\t<li>9</li>\n",
       "\t<li>1</li>\n",
       "\t<li>1</li>\n",
       "</ol>\n"
      ],
      "text/latex": [
       "\\begin{enumerate*}\n",
       "\\item 5\n",
       "\\item 0\n",
       "\\item 4\n",
       "\\item 1\n",
       "\\item 9\n",
       "\\item 2\n",
       "\\item 1\n",
       "\\item 3\n",
       "\\item 1\n",
       "\\item 4\n",
       "\\item 3\n",
       "\\item 5\n",
       "\\item 3\n",
       "\\item 6\n",
       "\\item 1\n",
       "\\item 7\n",
       "\\item 2\n",
       "\\item 8\n",
       "\\item 6\n",
       "\\item 9\n",
       "\\item 4\n",
       "\\item 0\n",
       "\\item 9\n",
       "\\item 1\n",
       "\\item 1\n",
       "\\end{enumerate*}\n"
      ],
      "text/markdown": [
       "1. 5\n",
       "2. 0\n",
       "3. 4\n",
       "4. 1\n",
       "5. 9\n",
       "6. 2\n",
       "7. 1\n",
       "8. 3\n",
       "9. 1\n",
       "10. 4\n",
       "11. 3\n",
       "12. 5\n",
       "13. 3\n",
       "14. 6\n",
       "15. 1\n",
       "16. 7\n",
       "17. 2\n",
       "18. 8\n",
       "19. 6\n",
       "20. 9\n",
       "21. 4\n",
       "22. 0\n",
       "23. 9\n",
       "24. 1\n",
       "25. 1\n",
       "\n",
       "\n"
      ],
      "text/plain": [
       " [1] 5 0 4 1 9 2 1 3 1 4 3 5 3 6 1 7 2 8 6 9 4 0 9 1 1"
      ]
     },
     "metadata": {},
     "output_type": "display_data"
    }
   ],
   "source": [
    "head(MNIST$train$y,25)"
   ]
  },
  {
   "cell_type": "code",
   "execution_count": 14,
   "metadata": {},
   "outputs": [
    {
     "data": {
      "text/html": [
       "60000"
      ],
      "text/latex": [
       "60000"
      ],
      "text/markdown": [
       "60000"
      ],
      "text/plain": [
       "[1] 60000"
      ]
     },
     "metadata": {},
     "output_type": "display_data"
    }
   ],
   "source": [
    "dim(MNIST$train$y)"
   ]
  },
  {
   "cell_type": "code",
   "execution_count": 15,
   "metadata": {},
   "outputs": [],
   "source": [
    "y.train = to_categorical(MNIST$train$y,10)\n",
    "y.test = to_categorical(MNIST$test$y,10)"
   ]
  },
  {
   "cell_type": "code",
   "execution_count": 16,
   "metadata": {
    "scrolled": true
   },
   "outputs": [
    {
     "data": {
      "text/html": [
       "<table>\n",
       "<tbody>\n",
       "\t<tr><td>0</td><td>0</td><td>0</td><td>0</td><td>0</td><td>1</td><td>0</td><td>0</td><td>0</td><td>0</td></tr>\n",
       "\t<tr><td>1</td><td>0</td><td>0</td><td>0</td><td>0</td><td>0</td><td>0</td><td>0</td><td>0</td><td>0</td></tr>\n",
       "\t<tr><td>0</td><td>0</td><td>0</td><td>0</td><td>1</td><td>0</td><td>0</td><td>0</td><td>0</td><td>0</td></tr>\n",
       "\t<tr><td>0</td><td>1</td><td>0</td><td>0</td><td>0</td><td>0</td><td>0</td><td>0</td><td>0</td><td>0</td></tr>\n",
       "\t<tr><td>0</td><td>0</td><td>0</td><td>0</td><td>0</td><td>0</td><td>0</td><td>0</td><td>0</td><td>1</td></tr>\n",
       "</tbody>\n",
       "</table>\n"
      ],
      "text/latex": [
       "\\begin{tabular}{llllllllll}\n",
       "\t 0 & 0 & 0 & 0 & 0 & 1 & 0 & 0 & 0 & 0\\\\\n",
       "\t 1 & 0 & 0 & 0 & 0 & 0 & 0 & 0 & 0 & 0\\\\\n",
       "\t 0 & 0 & 0 & 0 & 1 & 0 & 0 & 0 & 0 & 0\\\\\n",
       "\t 0 & 1 & 0 & 0 & 0 & 0 & 0 & 0 & 0 & 0\\\\\n",
       "\t 0 & 0 & 0 & 0 & 0 & 0 & 0 & 0 & 0 & 1\\\\\n",
       "\\end{tabular}\n"
      ],
      "text/markdown": [
       "\n",
       "| 0 | 0 | 0 | 0 | 0 | 1 | 0 | 0 | 0 | 0 | \n",
       "| 1 | 0 | 0 | 0 | 0 | 0 | 0 | 0 | 0 | 0 | \n",
       "| 0 | 0 | 0 | 0 | 1 | 0 | 0 | 0 | 0 | 0 | \n",
       "| 0 | 1 | 0 | 0 | 0 | 0 | 0 | 0 | 0 | 0 | \n",
       "| 0 | 0 | 0 | 0 | 0 | 0 | 0 | 0 | 0 | 1 | \n",
       "\n",
       "\n"
      ],
      "text/plain": [
       "     [,1] [,2] [,3] [,4] [,5] [,6] [,7] [,8] [,9] [,10]\n",
       "[1,] 0    0    0    0    0    1    0    0    0    0    \n",
       "[2,] 1    0    0    0    0    0    0    0    0    0    \n",
       "[3,] 0    0    0    0    1    0    0    0    0    0    \n",
       "[4,] 0    1    0    0    0    0    0    0    0    0    \n",
       "[5,] 0    0    0    0    0    0    0    0    0    1    "
      ]
     },
     "metadata": {},
     "output_type": "display_data"
    }
   ],
   "source": [
    "head(y.train,5)"
   ]
  },
  {
   "cell_type": "markdown",
   "metadata": {},
   "source": [
    "The format of the y encoding is called a \"one hot encoding.\" This type of encoding is widely used in machine learning to represent categories. The advantage of this encoding are that:\n",
    "<ul>\n",
    "    <li>The encodings of any two differnt classes, such as the encode for digit 5 and digit 9, are orthogonal vectors.\n",
    "     <li> The encodings are all the same magnitude vector, that is, the y have length 1. \n",
    "    </ul>\n",
    "This means we have clusters in 10-dimensional space but the clusters are all equidistant from the original and none is biased based on its distance from the origin.    \n"
   ]
  },
  {
   "cell_type": "markdown",
   "metadata": {},
   "source": [
    "## Building a Keras Model\n",
    "\n",
    "- ### A model must consist of a linear stack of layers\n",
    "- ### You can always print a summary of the model with <kbd>summary(model)</kbd>\n",
    "- ### (Only) the first layer must be told about the SHAPE of the input, e.g, the number of inputs"
   ]
  },
  {
   "cell_type": "markdown",
   "metadata": {},
   "source": [
    "The model is built by adding a sequence of neural network layers. The first layer has 784 input nodes, and the output vector as 10 units. There are intermediate layers of 256 and 128 units"
   ]
  },
  {
   "cell_type": "code",
   "execution_count": 17,
   "metadata": {},
   "outputs": [],
   "source": [
    "model = keras_model_sequential() \n",
    "model %>% \n",
    "  layer_dense(units = 256, activation = 'relu', \n",
    "              input_shape = c(784)) %>% \n",
    "  layer_dropout(rate = 0.4) %>% \n",
    "  layer_dense(units = 128, activation = 'relu') %>%\n",
    "  layer_dropout(rate = 0.3) %>%\n",
    "  layer_dense(units = 10, activation = 'softmax')"
   ]
  },
  {
   "cell_type": "markdown",
   "metadata": {},
   "source": [
    "<kbd>keras_model_sequential()</kbd> computes the output of each neuron as the dot product of the input and activation functoin, plus any bias\n",
    "\n",
    "<kbd>relu</kbd> is a rectified linear activation function. It returns $\\alpha x$ if $x>0$ and zero otherwise, where $\\alpha$ is the slope. \n",
    "\n",
    "<kbd>softmax</kbd> is a generalized logistic function that is used when there are multiple inputs and multiple outputs. If performs the function of the $\\sigma()$ function in an, e.g., backprop net."
   ]
  },
  {
   "cell_type": "markdown",
   "metadata": {},
   "source": [
    "<kbd> layer_dense()</kbd> adds a densely connected layer"
   ]
  },
  {
   "cell_type": "markdown",
   "metadata": {},
   "source": [
    "<kbd>layer_droput()</kbd> selects how many units to actually units (e.g., rate=0.3) to proven over fitting, so the other units are not used during training."
   ]
  },
  {
   "cell_type": "code",
   "execution_count": null,
   "metadata": {
    "scrolled": false
   },
   "outputs": [],
   "source": [
    "summary(model)"
   ]
  },
  {
   "cell_type": "markdown",
   "metadata": {},
   "source": [
    "## Compile the model using the Keras compiler\n",
    "\n",
    "### Requirements for compilation\n",
    "1. ### An Optimizer - this is the function that solves for the unknown parameters\n",
    "2. ### A loss function. \n",
    "<ul>\n",
    "    <li>The optimizer will try to minimze the loss function. \n",
    "    <li> For example, suppose your target is (0,0,1,0,0,....0) and the predicted probabilites are a vector of floating point numbers that add up to one such as (0.05, 0.1, 0.65, 0.05, ...) The error in predicted probability can be estimated with a loss function.\n",
    "     <li>\n",
    "For a multi-class classification problem such as this, a common one to use is called categorical crossentropy. The categorical crossentropy function between two states $p$ and $q$ is \n",
    "$$H(p,q) = -\\sum_x p(x) \\log q(x)$$\n",
    "where the $x$ values are the elements of the two vectors.\n",
    "</ul>\n",
    "3. ### A metric\n",
    "The difference between a metric and a loss function is this:\n",
    "<ul>\n",
    "<li> the output of a loss function is used to train the model\n",
    "<li>the output of a metric is use to evaluate the model, but not to train the model\n",
    "</ul>\n",
    "\n",
    "Several examples are given at https://cran.r-project.org/web/packages/keras/vignettes/sequential_model.html"
   ]
  },
  {
   "cell_type": "code",
   "execution_count": 18,
   "metadata": {},
   "outputs": [],
   "source": [
    "# model %>% \n",
    "compile(model,\n",
    "  loss = 'categorical_crossentropy',\n",
    "  optimizer = optimizer_rmsprop(),\n",
    "  metrics = c('accuracy')\n",
    ")"
   ]
  },
  {
   "cell_type": "markdown",
   "metadata": {},
   "source": [
    "Loss functions are described at https://keras.io/losses\n",
    "\n",
    "Optimizers are documentated at https://keras.io/optimizers/\n",
    "\n",
    "The documentation on <kbd>RMS_prop</kbd> says that it is usually a good choice for recurrent neural networks. RMSprop is a gradient descent optimizer with an exponentially decaying average of square gradients. (see http://ruder.io/optimizing-gradient-descent/index.html#rmsprop ) Looking at a number of discussion boards online, RMSprop seems to be a very popular choice, particularly among online courses. Perhaps exposure to these course has made it popular. There are many other and similar algorithms and there is no clear logic for choosing one over another in many cases. However, some optimizers are bad for certain problems, so it is a good idea to do some research and figure out if you are using a bad optimizer."
   ]
  },
  {
   "cell_type": "markdown",
   "metadata": {},
   "source": [
    "<kbd>metrics</kbd> are used to judge the accuracy of the model.\n",
    "\n",
    "There is a catalog of metrics at https://keras.io/metrics/\n",
    "\n",
    "Using the <kbd>accuracy</kbd> value allows keras to pick the appropriate accuracy function. For a categorical clasification problem, it will chose <kbd>categorical_accuracy</kbd>, which counts a categorization as correct if the item was placed in the correct category, and incorrect otherwise"
   ]
  },
  {
   "cell_type": "markdown",
   "metadata": {},
   "source": [
    "## Train the model over 30 iterations using batches of 128 images at a time\n",
    "\n",
    "### this may take a while ...."
   ]
  },
  {
   "cell_type": "markdown",
   "metadata": {},
   "source": [
    "history = model %>% fit(\n",
    "  x.train, y.train, \n",
    "  epochs = 30, batch_size = 128, \n",
    "  validation_split = 0.2\n",
    ")"
   ]
  },
  {
   "cell_type": "code",
   "execution_count": 19,
   "metadata": {},
   "outputs": [],
   "source": [
    "results=fit(model,  x.train, y.train, \n",
    "  epochs = 30, batch_size = 128, \n",
    "  validation_split = 0.2)"
   ]
  },
  {
   "cell_type": "code",
   "execution_count": 20,
   "metadata": {
    "scrolled": true
   },
   "outputs": [
    {
     "data": {
      "text/plain": [
       "        Length Class  Mode\n",
       "params  8      -none- list\n",
       "metrics 4      -none- list"
      ]
     },
     "metadata": {},
     "output_type": "display_data"
    }
   ],
   "source": [
    "summary(results)"
   ]
  },
  {
   "cell_type": "code",
   "execution_count": 21,
   "metadata": {},
   "outputs": [
    {
     "data": {
      "text/html": [
       "<dl>\n",
       "\t<dt>$metrics</dt>\n",
       "\t\t<dd><ol class=list-inline>\n",
       "\t<li>'loss'</li>\n",
       "\t<li>'acc'</li>\n",
       "\t<li>'val_loss'</li>\n",
       "\t<li>'val_acc'</li>\n",
       "</ol>\n",
       "</dd>\n",
       "\t<dt>$epochs</dt>\n",
       "\t\t<dd>30</dd>\n",
       "\t<dt>$steps</dt>\n",
       "\t\t<dd>NULL</dd>\n",
       "\t<dt>$do_validation</dt>\n",
       "\t\t<dd>TRUE</dd>\n",
       "\t<dt>$samples</dt>\n",
       "\t\t<dd>48000</dd>\n",
       "\t<dt>$batch_size</dt>\n",
       "\t\t<dd>128</dd>\n",
       "\t<dt>$verbose</dt>\n",
       "\t\t<dd>1</dd>\n",
       "\t<dt>$validation_samples</dt>\n",
       "\t\t<dd>12000</dd>\n",
       "</dl>\n"
      ],
      "text/latex": [
       "\\begin{description}\n",
       "\\item[\\$metrics] \\begin{enumerate*}\n",
       "\\item 'loss'\n",
       "\\item 'acc'\n",
       "\\item 'val\\_loss'\n",
       "\\item 'val\\_acc'\n",
       "\\end{enumerate*}\n",
       "\n",
       "\\item[\\$epochs] 30\n",
       "\\item[\\$steps] NULL\n",
       "\\item[\\$do\\_validation] TRUE\n",
       "\\item[\\$samples] 48000\n",
       "\\item[\\$batch\\_size] 128\n",
       "\\item[\\$verbose] 1\n",
       "\\item[\\$validation\\_samples] 12000\n",
       "\\end{description}\n"
      ],
      "text/markdown": [
       "$metrics\n",
       ":   1. 'loss'\n",
       "2. 'acc'\n",
       "3. 'val_loss'\n",
       "4. 'val_acc'\n",
       "\n",
       "\n",
       "\n",
       "$epochs\n",
       ":   30\n",
       "$steps\n",
       ":   NULL\n",
       "$do_validation\n",
       ":   TRUE\n",
       "$samples\n",
       ":   48000\n",
       "$batch_size\n",
       ":   128\n",
       "$verbose\n",
       ":   1\n",
       "$validation_samples\n",
       ":   12000\n",
       "\n",
       "\n"
      ],
      "text/plain": [
       "$metrics\n",
       "[1] \"loss\"     \"acc\"      \"val_loss\" \"val_acc\" \n",
       "\n",
       "$epochs\n",
       "[1] 30\n",
       "\n",
       "$steps\n",
       "NULL\n",
       "\n",
       "$do_validation\n",
       "[1] TRUE\n",
       "\n",
       "$samples\n",
       "[1] 48000\n",
       "\n",
       "$batch_size\n",
       "[1] 128\n",
       "\n",
       "$verbose\n",
       "[1] 1\n",
       "\n",
       "$validation_samples\n",
       "[1] 12000\n"
      ]
     },
     "metadata": {},
     "output_type": "display_data"
    }
   ],
   "source": [
    "results$params"
   ]
  },
  {
   "cell_type": "code",
   "execution_count": 28,
   "metadata": {
    "scrolled": false
   },
   "outputs": [
    {
     "data": {
      "text/html": [
       "<dl>\n",
       "\t<dt>$acc</dt>\n",
       "\t\t<dd><ol class=list-inline>\n",
       "\t<li>0.870791666666667</li>\n",
       "\t<li>0.9408125</li>\n",
       "\t<li>0.954229166666667</li>\n",
       "\t<li>0.962125</li>\n",
       "\t<li>0.965041666666667</li>\n",
       "\t<li>0.9679375</li>\n",
       "\t<li>0.972041666666667</li>\n",
       "\t<li>0.973395833333333</li>\n",
       "\t<li>0.974979166666667</li>\n",
       "\t<li>0.976604166666667</li>\n",
       "\t<li>0.9770625</li>\n",
       "\t<li>0.978041666666667</li>\n",
       "\t<li>0.97925</li>\n",
       "\t<li>0.9805</li>\n",
       "\t<li>0.981958333333333</li>\n",
       "\t<li>0.9805625</li>\n",
       "\t<li>0.982458333333333</li>\n",
       "\t<li>0.9829375</li>\n",
       "\t<li>0.983229166666667</li>\n",
       "\t<li>0.983395833333333</li>\n",
       "\t<li>0.983708333333333</li>\n",
       "\t<li>0.985145833333333</li>\n",
       "\t<li>0.984666666666667</li>\n",
       "\t<li>0.985395833333333</li>\n",
       "\t<li>0.984791666666667</li>\n",
       "\t<li>0.9846875</li>\n",
       "\t<li>0.9863125</li>\n",
       "\t<li>0.986333333333333</li>\n",
       "\t<li>0.985604166666667</li>\n",
       "\t<li>0.985791666666667</li>\n",
       "</ol>\n",
       "</dd>\n",
       "\t<dt>$loss</dt>\n",
       "\t\t<dd><ol class=list-inline>\n",
       "\t<li>0.427643926262856</li>\n",
       "\t<li>0.198583953003089</li>\n",
       "\t<li>0.154141860355933</li>\n",
       "\t<li>0.129832664340734</li>\n",
       "\t<li>0.116330171391368</li>\n",
       "\t<li>0.10582877390335</li>\n",
       "\t<li>0.0954835125754277</li>\n",
       "\t<li>0.0910539427498976</li>\n",
       "\t<li>0.0847323289935788</li>\n",
       "\t<li>0.0818170747881134</li>\n",
       "\t<li>0.0766599763284127</li>\n",
       "\t<li>0.0777039298713207</li>\n",
       "\t<li>0.0716478073733548</li>\n",
       "\t<li>0.0693771734281133</li>\n",
       "\t<li>0.0645934438264618</li>\n",
       "\t<li>0.0665825072688361</li>\n",
       "\t<li>0.063620336268718</li>\n",
       "\t<li>0.0590802522543818</li>\n",
       "\t<li>0.0590776746788373</li>\n",
       "\t<li>0.0600303629251818</li>\n",
       "\t<li>0.0586656069848686</li>\n",
       "\t<li>0.0542955303303897</li>\n",
       "\t<li>0.0540380507353693</li>\n",
       "\t<li>0.0530945444790026</li>\n",
       "\t<li>0.0534871724257246</li>\n",
       "\t<li>0.0553399253676956</li>\n",
       "\t<li>0.0515446206314179</li>\n",
       "\t<li>0.0543929766930329</li>\n",
       "\t<li>0.0537154584531672</li>\n",
       "\t<li>0.0532965152993177</li>\n",
       "</ol>\n",
       "</dd>\n",
       "\t<dt>$val_acc</dt>\n",
       "\t\t<dd><ol class=list-inline>\n",
       "\t<li>0.953500000158946</li>\n",
       "\t<li>0.965166666825612</li>\n",
       "\t<li>0.970166666825612</li>\n",
       "\t<li>0.970666666507721</li>\n",
       "\t<li>0.975166666825612</li>\n",
       "\t<li>0.973916666507721</li>\n",
       "\t<li>0.976583333492279</li>\n",
       "\t<li>0.977916666507721</li>\n",
       "\t<li>0.977166666507721</li>\n",
       "\t<li>0.977416666507721</li>\n",
       "\t<li>0.976749999841054</li>\n",
       "\t<li>0.979583333492279</li>\n",
       "\t<li>0.977249999841054</li>\n",
       "\t<li>0.978749999841054</li>\n",
       "\t<li>0.977999999841054</li>\n",
       "\t<li>0.978749999841054</li>\n",
       "\t<li>0.980166666507721</li>\n",
       "\t<li>0.978916666825612</li>\n",
       "\t<li>0.980083333174388</li>\n",
       "\t<li>0.980249999841054</li>\n",
       "\t<li>0.979083333174388</li>\n",
       "\t<li>0.979499999841054</li>\n",
       "\t<li>0.979416666507721</li>\n",
       "\t<li>0.980583333174388</li>\n",
       "\t<li>0.981083333174388</li>\n",
       "\t<li>0.980249999841054</li>\n",
       "\t<li>0.981166666507721</li>\n",
       "\t<li>0.979083333174388</li>\n",
       "\t<li>0.979833333174388</li>\n",
       "\t<li>0.980916666825612</li>\n",
       "</ol>\n",
       "</dd>\n",
       "\t<dt>$val_loss</dt>\n",
       "\t\t<dd><ol class=list-inline>\n",
       "\t<li>0.160489712436994</li>\n",
       "\t<li>0.12325706688563</li>\n",
       "\t<li>0.105186254024506</li>\n",
       "\t<li>0.0983676138495406</li>\n",
       "\t<li>0.0904715795094768</li>\n",
       "\t<li>0.0938584078500668</li>\n",
       "\t<li>0.0886932785368214</li>\n",
       "\t<li>0.0871986801947157</li>\n",
       "\t<li>0.0890492789782584</li>\n",
       "\t<li>0.0907606691693266</li>\n",
       "\t<li>0.0959086238259139</li>\n",
       "\t<li>0.0897049702337633</li>\n",
       "\t<li>0.0946040730550885</li>\n",
       "\t<li>0.0907590638779414</li>\n",
       "\t<li>0.0980892686600952</li>\n",
       "\t<li>0.0936858934223031</li>\n",
       "\t<li>0.0965870961875577</li>\n",
       "\t<li>0.0981971457696054</li>\n",
       "\t<li>0.101240606700808</li>\n",
       "\t<li>0.095308084258344</li>\n",
       "\t<li>0.0973622127282821</li>\n",
       "\t<li>0.0988708641687408</li>\n",
       "\t<li>0.102880811558542</li>\n",
       "\t<li>0.103930320226912</li>\n",
       "\t<li>0.10097289773752</li>\n",
       "\t<li>0.102810310442248</li>\n",
       "\t<li>0.10340744528301</li>\n",
       "\t<li>0.10757599282806</li>\n",
       "\t<li>0.107583380208293</li>\n",
       "\t<li>0.106028270952762</li>\n",
       "</ol>\n",
       "</dd>\n",
       "</dl>\n"
      ],
      "text/latex": [
       "\\begin{description}\n",
       "\\item[\\$acc] \\begin{enumerate*}\n",
       "\\item 0.870791666666667\n",
       "\\item 0.9408125\n",
       "\\item 0.954229166666667\n",
       "\\item 0.962125\n",
       "\\item 0.965041666666667\n",
       "\\item 0.9679375\n",
       "\\item 0.972041666666667\n",
       "\\item 0.973395833333333\n",
       "\\item 0.974979166666667\n",
       "\\item 0.976604166666667\n",
       "\\item 0.9770625\n",
       "\\item 0.978041666666667\n",
       "\\item 0.97925\n",
       "\\item 0.9805\n",
       "\\item 0.981958333333333\n",
       "\\item 0.9805625\n",
       "\\item 0.982458333333333\n",
       "\\item 0.9829375\n",
       "\\item 0.983229166666667\n",
       "\\item 0.983395833333333\n",
       "\\item 0.983708333333333\n",
       "\\item 0.985145833333333\n",
       "\\item 0.984666666666667\n",
       "\\item 0.985395833333333\n",
       "\\item 0.984791666666667\n",
       "\\item 0.9846875\n",
       "\\item 0.9863125\n",
       "\\item 0.986333333333333\n",
       "\\item 0.985604166666667\n",
       "\\item 0.985791666666667\n",
       "\\end{enumerate*}\n",
       "\n",
       "\\item[\\$loss] \\begin{enumerate*}\n",
       "\\item 0.427643926262856\n",
       "\\item 0.198583953003089\n",
       "\\item 0.154141860355933\n",
       "\\item 0.129832664340734\n",
       "\\item 0.116330171391368\n",
       "\\item 0.10582877390335\n",
       "\\item 0.0954835125754277\n",
       "\\item 0.0910539427498976\n",
       "\\item 0.0847323289935788\n",
       "\\item 0.0818170747881134\n",
       "\\item 0.0766599763284127\n",
       "\\item 0.0777039298713207\n",
       "\\item 0.0716478073733548\n",
       "\\item 0.0693771734281133\n",
       "\\item 0.0645934438264618\n",
       "\\item 0.0665825072688361\n",
       "\\item 0.063620336268718\n",
       "\\item 0.0590802522543818\n",
       "\\item 0.0590776746788373\n",
       "\\item 0.0600303629251818\n",
       "\\item 0.0586656069848686\n",
       "\\item 0.0542955303303897\n",
       "\\item 0.0540380507353693\n",
       "\\item 0.0530945444790026\n",
       "\\item 0.0534871724257246\n",
       "\\item 0.0553399253676956\n",
       "\\item 0.0515446206314179\n",
       "\\item 0.0543929766930329\n",
       "\\item 0.0537154584531672\n",
       "\\item 0.0532965152993177\n",
       "\\end{enumerate*}\n",
       "\n",
       "\\item[\\$val\\_acc] \\begin{enumerate*}\n",
       "\\item 0.953500000158946\n",
       "\\item 0.965166666825612\n",
       "\\item 0.970166666825612\n",
       "\\item 0.970666666507721\n",
       "\\item 0.975166666825612\n",
       "\\item 0.973916666507721\n",
       "\\item 0.976583333492279\n",
       "\\item 0.977916666507721\n",
       "\\item 0.977166666507721\n",
       "\\item 0.977416666507721\n",
       "\\item 0.976749999841054\n",
       "\\item 0.979583333492279\n",
       "\\item 0.977249999841054\n",
       "\\item 0.978749999841054\n",
       "\\item 0.977999999841054\n",
       "\\item 0.978749999841054\n",
       "\\item 0.980166666507721\n",
       "\\item 0.978916666825612\n",
       "\\item 0.980083333174388\n",
       "\\item 0.980249999841054\n",
       "\\item 0.979083333174388\n",
       "\\item 0.979499999841054\n",
       "\\item 0.979416666507721\n",
       "\\item 0.980583333174388\n",
       "\\item 0.981083333174388\n",
       "\\item 0.980249999841054\n",
       "\\item 0.981166666507721\n",
       "\\item 0.979083333174388\n",
       "\\item 0.979833333174388\n",
       "\\item 0.980916666825612\n",
       "\\end{enumerate*}\n",
       "\n",
       "\\item[\\$val\\_loss] \\begin{enumerate*}\n",
       "\\item 0.160489712436994\n",
       "\\item 0.12325706688563\n",
       "\\item 0.105186254024506\n",
       "\\item 0.0983676138495406\n",
       "\\item 0.0904715795094768\n",
       "\\item 0.0938584078500668\n",
       "\\item 0.0886932785368214\n",
       "\\item 0.0871986801947157\n",
       "\\item 0.0890492789782584\n",
       "\\item 0.0907606691693266\n",
       "\\item 0.0959086238259139\n",
       "\\item 0.0897049702337633\n",
       "\\item 0.0946040730550885\n",
       "\\item 0.0907590638779414\n",
       "\\item 0.0980892686600952\n",
       "\\item 0.0936858934223031\n",
       "\\item 0.0965870961875577\n",
       "\\item 0.0981971457696054\n",
       "\\item 0.101240606700808\n",
       "\\item 0.095308084258344\n",
       "\\item 0.0973622127282821\n",
       "\\item 0.0988708641687408\n",
       "\\item 0.102880811558542\n",
       "\\item 0.103930320226912\n",
       "\\item 0.10097289773752\n",
       "\\item 0.102810310442248\n",
       "\\item 0.10340744528301\n",
       "\\item 0.10757599282806\n",
       "\\item 0.107583380208293\n",
       "\\item 0.106028270952762\n",
       "\\end{enumerate*}\n",
       "\n",
       "\\end{description}\n"
      ],
      "text/markdown": [
       "$acc\n",
       ":   1. 0.870791666666667\n",
       "2. 0.9408125\n",
       "3. 0.954229166666667\n",
       "4. 0.962125\n",
       "5. 0.965041666666667\n",
       "6. 0.9679375\n",
       "7. 0.972041666666667\n",
       "8. 0.973395833333333\n",
       "9. 0.974979166666667\n",
       "10. 0.976604166666667\n",
       "11. 0.9770625\n",
       "12. 0.978041666666667\n",
       "13. 0.97925\n",
       "14. 0.9805\n",
       "15. 0.981958333333333\n",
       "16. 0.9805625\n",
       "17. 0.982458333333333\n",
       "18. 0.9829375\n",
       "19. 0.983229166666667\n",
       "20. 0.983395833333333\n",
       "21. 0.983708333333333\n",
       "22. 0.985145833333333\n",
       "23. 0.984666666666667\n",
       "24. 0.985395833333333\n",
       "25. 0.984791666666667\n",
       "26. 0.9846875\n",
       "27. 0.9863125\n",
       "28. 0.986333333333333\n",
       "29. 0.985604166666667\n",
       "30. 0.985791666666667\n",
       "\n",
       "\n",
       "\n",
       "$loss\n",
       ":   1. 0.427643926262856\n",
       "2. 0.198583953003089\n",
       "3. 0.154141860355933\n",
       "4. 0.129832664340734\n",
       "5. 0.116330171391368\n",
       "6. 0.10582877390335\n",
       "7. 0.0954835125754277\n",
       "8. 0.0910539427498976\n",
       "9. 0.0847323289935788\n",
       "10. 0.0818170747881134\n",
       "11. 0.0766599763284127\n",
       "12. 0.0777039298713207\n",
       "13. 0.0716478073733548\n",
       "14. 0.0693771734281133\n",
       "15. 0.0645934438264618\n",
       "16. 0.0665825072688361\n",
       "17. 0.063620336268718\n",
       "18. 0.0590802522543818\n",
       "19. 0.0590776746788373\n",
       "20. 0.0600303629251818\n",
       "21. 0.0586656069848686\n",
       "22. 0.0542955303303897\n",
       "23. 0.0540380507353693\n",
       "24. 0.0530945444790026\n",
       "25. 0.0534871724257246\n",
       "26. 0.0553399253676956\n",
       "27. 0.0515446206314179\n",
       "28. 0.0543929766930329\n",
       "29. 0.0537154584531672\n",
       "30. 0.0532965152993177\n",
       "\n",
       "\n",
       "\n",
       "$val_acc\n",
       ":   1. 0.953500000158946\n",
       "2. 0.965166666825612\n",
       "3. 0.970166666825612\n",
       "4. 0.970666666507721\n",
       "5. 0.975166666825612\n",
       "6. 0.973916666507721\n",
       "7. 0.976583333492279\n",
       "8. 0.977916666507721\n",
       "9. 0.977166666507721\n",
       "10. 0.977416666507721\n",
       "11. 0.976749999841054\n",
       "12. 0.979583333492279\n",
       "13. 0.977249999841054\n",
       "14. 0.978749999841054\n",
       "15. 0.977999999841054\n",
       "16. 0.978749999841054\n",
       "17. 0.980166666507721\n",
       "18. 0.978916666825612\n",
       "19. 0.980083333174388\n",
       "20. 0.980249999841054\n",
       "21. 0.979083333174388\n",
       "22. 0.979499999841054\n",
       "23. 0.979416666507721\n",
       "24. 0.980583333174388\n",
       "25. 0.981083333174388\n",
       "26. 0.980249999841054\n",
       "27. 0.981166666507721\n",
       "28. 0.979083333174388\n",
       "29. 0.979833333174388\n",
       "30. 0.980916666825612\n",
       "\n",
       "\n",
       "\n",
       "$val_loss\n",
       ":   1. 0.160489712436994\n",
       "2. 0.12325706688563\n",
       "3. 0.105186254024506\n",
       "4. 0.0983676138495406\n",
       "5. 0.0904715795094768\n",
       "6. 0.0938584078500668\n",
       "7. 0.0886932785368214\n",
       "8. 0.0871986801947157\n",
       "9. 0.0890492789782584\n",
       "10. 0.0907606691693266\n",
       "11. 0.0959086238259139\n",
       "12. 0.0897049702337633\n",
       "13. 0.0946040730550885\n",
       "14. 0.0907590638779414\n",
       "15. 0.0980892686600952\n",
       "16. 0.0936858934223031\n",
       "17. 0.0965870961875577\n",
       "18. 0.0981971457696054\n",
       "19. 0.101240606700808\n",
       "20. 0.095308084258344\n",
       "21. 0.0973622127282821\n",
       "22. 0.0988708641687408\n",
       "23. 0.102880811558542\n",
       "24. 0.103930320226912\n",
       "25. 0.10097289773752\n",
       "26. 0.102810310442248\n",
       "27. 0.10340744528301\n",
       "28. 0.10757599282806\n",
       "29. 0.107583380208293\n",
       "30. 0.106028270952762\n",
       "\n",
       "\n",
       "\n",
       "\n",
       "\n"
      ],
      "text/plain": [
       "$acc\n",
       " [1] 0.8707917 0.9408125 0.9542292 0.9621250\n",
       " [5] 0.9650417 0.9679375 0.9720417 0.9733958\n",
       " [9] 0.9749792 0.9766042 0.9770625 0.9780417\n",
       "[13] 0.9792500 0.9805000 0.9819583 0.9805625\n",
       "[17] 0.9824583 0.9829375 0.9832292 0.9833958\n",
       "[21] 0.9837083 0.9851458 0.9846667 0.9853958\n",
       "[25] 0.9847917 0.9846875 0.9863125 0.9863333\n",
       "[29] 0.9856042 0.9857917\n",
       "\n",
       "$loss\n",
       " [1] 0.42764393 0.19858395 0.15414186 0.12983266\n",
       " [5] 0.11633017 0.10582877 0.09548351 0.09105394\n",
       " [9] 0.08473233 0.08181707 0.07665998 0.07770393\n",
       "[13] 0.07164781 0.06937717 0.06459344 0.06658251\n",
       "[17] 0.06362034 0.05908025 0.05907767 0.06003036\n",
       "[21] 0.05866561 0.05429553 0.05403805 0.05309454\n",
       "[25] 0.05348717 0.05533993 0.05154462 0.05439298\n",
       "[29] 0.05371546 0.05329652\n",
       "\n",
       "$val_acc\n",
       " [1] 0.9535000 0.9651667 0.9701667 0.9706667\n",
       " [5] 0.9751667 0.9739167 0.9765833 0.9779167\n",
       " [9] 0.9771667 0.9774167 0.9767500 0.9795833\n",
       "[13] 0.9772500 0.9787500 0.9780000 0.9787500\n",
       "[17] 0.9801667 0.9789167 0.9800833 0.9802500\n",
       "[21] 0.9790833 0.9795000 0.9794167 0.9805833\n",
       "[25] 0.9810833 0.9802500 0.9811667 0.9790833\n",
       "[29] 0.9798333 0.9809167\n",
       "\n",
       "$val_loss\n",
       " [1] 0.16048971 0.12325707 0.10518625 0.09836761\n",
       " [5] 0.09047158 0.09385841 0.08869328 0.08719868\n",
       " [9] 0.08904928 0.09076067 0.09590862 0.08970497\n",
       "[13] 0.09460407 0.09075906 0.09808927 0.09368589\n",
       "[17] 0.09658710 0.09819715 0.10124061 0.09530808\n",
       "[21] 0.09736221 0.09887086 0.10288081 0.10393032\n",
       "[25] 0.10097290 0.10281031 0.10340745 0.10757599\n",
       "[29] 0.10758338 0.10602827\n"
      ]
     },
     "metadata": {},
     "output_type": "display_data"
    }
   ],
   "source": [
    "options(width=50)\n",
    "results$metrics"
   ]
  },
  {
   "cell_type": "code",
   "execution_count": 30,
   "metadata": {
    "scrolled": true
   },
   "outputs": [
    {
     "data": {},
     "metadata": {},
     "output_type": "display_data"
    },
    {
     "data": {
      "image/png": "[encoded data removed]",
      "text/plain": [
       "plot without title"
      ]
     },
     "metadata": {},
     "output_type": "display_data"
    }
   ],
   "source": [
    "#pdf(\"MNIST-keras-results.pdf\")\n",
    "plot(results)\n",
    "#dev.off()"
   ]
  },
  {
   "cell_type": "markdown",
   "metadata": {},
   "source": [
    "## Evaluate against the test data"
   ]
  },
  {
   "cell_type": "code",
   "execution_count": 24,
   "metadata": {},
   "outputs": [
    {
     "data": {
      "text/html": [
       "<dl>\n",
       "\t<dt>$loss</dt>\n",
       "\t\t<dd>0.100639294248619</dd>\n",
       "\t<dt>$acc</dt>\n",
       "\t\t<dd>0.982</dd>\n",
       "</dl>\n"
      ],
      "text/latex": [
       "\\begin{description}\n",
       "\\item[\\$loss] 0.100639294248619\n",
       "\\item[\\$acc] 0.982\n",
       "\\end{description}\n"
      ],
      "text/markdown": [
       "$loss\n",
       ":   0.100639294248619\n",
       "$acc\n",
       ":   0.982\n",
       "\n",
       "\n"
      ],
      "text/plain": [
       "$loss\n",
       "[1] 0.1006393\n",
       "\n",
       "$acc\n",
       "[1] 0.982\n"
      ]
     },
     "metadata": {},
     "output_type": "display_data"
    }
   ],
   "source": [
    " evaluate(model, x.test, y.test)"
   ]
  },
  {
   "cell_type": "markdown",
   "metadata": {},
   "source": [
    "For each of the first 10 images in the test data set, predict what that image represents. "
   ]
  },
  {
   "cell_type": "code",
   "execution_count": 25,
   "metadata": {},
   "outputs": [
    {
     "data": {
      "text/html": [
       "<ol class=list-inline>\n",
       "\t<li>7</li>\n",
       "\t<li>2</li>\n",
       "\t<li>1</li>\n",
       "\t<li>0</li>\n",
       "\t<li>4</li>\n",
       "\t<li>1</li>\n",
       "\t<li>4</li>\n",
       "\t<li>9</li>\n",
       "\t<li>6</li>\n",
       "\t<li>9</li>\n",
       "</ol>\n"
      ],
      "text/latex": [
       "\\begin{enumerate*}\n",
       "\\item 7\n",
       "\\item 2\n",
       "\\item 1\n",
       "\\item 0\n",
       "\\item 4\n",
       "\\item 1\n",
       "\\item 4\n",
       "\\item 9\n",
       "\\item 6\n",
       "\\item 9\n",
       "\\end{enumerate*}\n"
      ],
      "text/markdown": [
       "1. 7\n",
       "2. 2\n",
       "3. 1\n",
       "4. 0\n",
       "5. 4\n",
       "6. 1\n",
       "7. 4\n",
       "8. 9\n",
       "9. 6\n",
       "10. 9\n",
       "\n",
       "\n"
      ],
      "text/plain": [
       " [1] 7 2 1 0 4 1 4 9 6 9"
      ]
     },
     "metadata": {},
     "output_type": "display_data"
    }
   ],
   "source": [
    "head(predict_classes(model, x.test),10)"
   ]
  },
  {
   "cell_type": "markdown",
   "metadata": {},
   "source": [
    "## Plot the first 10 images in the test data set"
   ]
  },
  {
   "cell_type": "code",
   "execution_count": null,
   "metadata": {},
   "outputs": [],
   "source": [
    "library(graphics)"
   ]
  },
  {
   "cell_type": "code",
   "execution_count": null,
   "metadata": {},
   "outputs": [],
   "source": [
    "options(repr.plot.width=10, repr.plot.height=4)\n",
    "\n",
    "plot(c(0,280), c(0,30), type=\"n\",xlab=\"\",ylab=\" \",axes=FALSE)\n",
    "for (i in 1:10){\n",
    "    im = 1-x.test[i,]\n",
    "    dim(im)=c(28,28)\n",
    "    im = t(im)\n",
    "    left = (i-1)*28\n",
    "    rasterImage(im,xleft=left, ybottom=0,xright=left+28, ytop=28)\n",
    "    }"
   ]
  },
  {
   "cell_type": "code",
   "execution_count": 39,
   "metadata": {},
   "outputs": [],
   "source": [
    "#pdf(\"some-letters.pdf\",height=\"6\",width=\"6\")\n",
    "plotrows=function(data, nstart, nstop){\n",
    "\n",
    "    n=nstop-nstart+1\n",
    "    nrows=(n %/% 10) + 1\n",
    "    width = 10*28\n",
    "    height = nrows*28\n",
    "    plot(c(0,width), c(0,height), type=\"n\",xlab=\"\",ylab=\" \",axes=FALSE)\n",
    "\n",
    "    options(repr.plot.width=width/28, repr.plot.height=height/14)\n",
    "    for (j in nstart:nstop){\n",
    "     \n",
    "        the.row = (j-1) %/% 10 \n",
    "        bottom = 28*the.row\n",
    "        the.column = (j-1) %% 10 \n",
    "        left = 28*the.column\n",
    "        im = 1-data[j,]\n",
    "        dim(im)=c(28,28)\n",
    "        im = t(im)\n",
    "        rasterImage(im,xleft=left, \n",
    "                    ybottom=bottom,\n",
    "                    xright=left+28, \n",
    "                    ytop=bottom+28)\n",
    "        \n",
    "    }\n",
    "\n",
    "}\n",
    "\n",
    "#dev.off()"
   ]
  },
  {
   "cell_type": "code",
   "execution_count": null,
   "metadata": {},
   "outputs": [],
   "source": [
    "5 0 4 1 9 2 1 3 1 4 3 5 3 6 1 7 2 8 6 9 4 0 9 1 1\n"
   ]
  },
  {
   "cell_type": "code",
   "execution_count": 40,
   "metadata": {},
   "outputs": [
    {
     "data": {
      "image/png": "[encoded data removed]",
      "text/plain": [
       "plot without title"
      ]
     },
     "metadata": {},
     "output_type": "display_data"
    }
   ],
   "source": [
    "plotrows(x.test, 1, 10)"
   ]
  },
  {
   "cell_type": "code",
   "execution_count": 41,
   "metadata": {},
   "outputs": [
    {
     "data": {
      "text/html": [
       "<strong>png:</strong> 2"
      ],
      "text/latex": [
       "\\textbf{png:} 2"
      ],
      "text/markdown": [
       "**png:** 2"
      ],
      "text/plain": [
       "png \n",
       "  2 "
      ]
     },
     "metadata": {},
     "output_type": "display_data"
    }
   ],
   "source": [
    "pdf(\"first-row-MNIST-test.pdf\")\n",
    "plotrows(x.test,1,10)\n",
    "dev.off()"
   ]
  },
  {
   "cell_type": "code",
   "execution_count": null,
   "metadata": {},
   "outputs": [],
   "source": [
    "7 2 1 0 4 1 4 9 6 9\n"
   ]
  }
 ],
 "metadata": {
  "kernelspec": {
   "display_name": "R",
   "language": "R",
   "name": "ir"
  },
  "language_info": {
   "codemirror_mode": "r",
   "file_extension": ".r",
   "mimetype": "text/x-r-source",
   "name": "R",
   "pygments_lexer": "r",
   "version": "3.4.4"
  }
 },
 "nbformat": 4,
 "nbformat_minor": 2
}
