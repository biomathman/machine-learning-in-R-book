{
 "cells": [
  {
   "cell_type": "code",
   "execution_count": 1,
   "metadata": {},
   "outputs": [],
   "source": [
    "url=\"https://archive.ics.uci.edu/ml/machine-learning-databases/adult/adult.data\"\n",
    "dataset=data.frame(read.csv(url, header = TRUE, sep = \",\"))"
   ]
  },
  {
   "cell_type": "code",
   "execution_count": 2,
   "metadata": {
    "scrolled": false
   },
   "outputs": [
    {
     "data": {
      "text/html": [
       "<table>\n",
       "<thead><tr><th scope=col>X39</th><th scope=col>State.gov</th><th scope=col>X77516</th><th scope=col>Bachelors</th><th scope=col>X13</th><th scope=col>Never.married</th><th scope=col>Adm.clerical</th><th scope=col>Not.in.family</th><th scope=col>White</th><th scope=col>Male</th><th scope=col>X2174</th><th scope=col>X0</th><th scope=col>X40</th><th scope=col>United.States</th><th scope=col>X..50K</th></tr></thead>\n",
       "<tbody>\n",
       "\t<tr><td>50                                                            </td><td> Self-emp-not-inc                                             </td><td> 83311                                                        </td><td> Bachelors                                                    </td><td>13                                                            </td><td><span style=white-space:pre-wrap> Married-civ-spouse   </span></td><td><span style=white-space:pre-wrap> Exec-managerial  </span>    </td><td><span style=white-space:pre-wrap> Husband      </span>        </td><td> White                                                        </td><td><span style=white-space:pre-wrap> Male  </span>               </td><td>0                                                             </td><td>0                                                             </td><td>13                                                            </td><td> United-States                                                </td><td> &lt;=50K                                                     </td></tr>\n",
       "\t<tr><td>38                                                            </td><td><span style=white-space:pre-wrap> Private         </span>     </td><td>215646                                                        </td><td><span style=white-space:pre-wrap> HS-grad  </span>            </td><td> 9                                                            </td><td><span style=white-space:pre-wrap> Divorced             </span></td><td> Handlers-cleaners                                            </td><td> Not-in-family                                                </td><td> White                                                        </td><td><span style=white-space:pre-wrap> Male  </span>               </td><td>0                                                             </td><td>0                                                             </td><td>40                                                            </td><td> United-States                                                </td><td> &lt;=50K                                                     </td></tr>\n",
       "\t<tr><td>53                                                            </td><td><span style=white-space:pre-wrap> Private         </span>     </td><td>234721                                                        </td><td><span style=white-space:pre-wrap> 11th     </span>            </td><td> 7                                                            </td><td><span style=white-space:pre-wrap> Married-civ-spouse   </span></td><td> Handlers-cleaners                                            </td><td><span style=white-space:pre-wrap> Husband      </span>        </td><td> Black                                                        </td><td><span style=white-space:pre-wrap> Male  </span>               </td><td>0                                                             </td><td>0                                                             </td><td>40                                                            </td><td> United-States                                                </td><td> &lt;=50K                                                     </td></tr>\n",
       "\t<tr><td>28                                                            </td><td><span style=white-space:pre-wrap> Private         </span>     </td><td>338409                                                        </td><td> Bachelors                                                    </td><td>13                                                            </td><td><span style=white-space:pre-wrap> Married-civ-spouse   </span></td><td><span style=white-space:pre-wrap> Prof-specialty   </span>    </td><td><span style=white-space:pre-wrap> Wife         </span>        </td><td> Black                                                        </td><td> Female                                                       </td><td>0                                                             </td><td>0                                                             </td><td>40                                                            </td><td><span style=white-space:pre-wrap> Cuba         </span>        </td><td> &lt;=50K                                                     </td></tr>\n",
       "\t<tr><td>37                                                            </td><td><span style=white-space:pre-wrap> Private         </span>     </td><td>284582                                                        </td><td><span style=white-space:pre-wrap> Masters  </span>            </td><td>14                                                            </td><td><span style=white-space:pre-wrap> Married-civ-spouse   </span></td><td><span style=white-space:pre-wrap> Exec-managerial  </span>    </td><td><span style=white-space:pre-wrap> Wife         </span>        </td><td> White                                                        </td><td> Female                                                       </td><td>0                                                             </td><td>0                                                             </td><td>40                                                            </td><td> United-States                                                </td><td> &lt;=50K                                                     </td></tr>\n",
       "\t<tr><td>49                                                        </td><td><span style=white-space:pre-wrap> Private         </span> </td><td>160187                                                    </td><td><span style=white-space:pre-wrap> 9th      </span>        </td><td> 5                                                        </td><td> Married-spouse-absent                                    </td><td><span style=white-space:pre-wrap> Other-service    </span></td><td> Not-in-family                                            </td><td> Black                                                    </td><td> Female                                                   </td><td>0                                                         </td><td>0                                                         </td><td>16                                                        </td><td><span style=white-space:pre-wrap> Jamaica      </span>    </td><td> &lt;=50K                                                 </td></tr>\n",
       "\t<tr><td>52                                                            </td><td> Self-emp-not-inc                                             </td><td>209642                                                        </td><td><span style=white-space:pre-wrap> HS-grad  </span>            </td><td> 9                                                            </td><td><span style=white-space:pre-wrap> Married-civ-spouse   </span></td><td><span style=white-space:pre-wrap> Exec-managerial  </span>    </td><td><span style=white-space:pre-wrap> Husband      </span>        </td><td> White                                                        </td><td><span style=white-space:pre-wrap> Male  </span>               </td><td>0                                                             </td><td>0                                                             </td><td>45                                                            </td><td> United-States                                                </td><td> &gt;50K                                                      </td></tr>\n",
       "</tbody>\n",
       "</table>\n"
      ],
      "text/latex": [
       "\\begin{tabular}{r|lllllllllllllll}\n",
       " X39 & State.gov & X77516 & Bachelors & X13 & Never.married & Adm.clerical & Not.in.family & White & Male & X2174 & X0 & X40 & United.States & X..50K\\\\\n",
       "\\hline\n",
       "\t 50                     &  Self-emp-not-inc      &  83311                 &  Bachelors             & 13                     &  Married-civ-spouse    &  Exec-managerial       &  Husband               &  White                 &  Male                  & 0                      & 0                      & 13                     &  United-States         &  <=50K                \\\\\n",
       "\t 38                     &  Private               & 215646                 &  HS-grad               &  9                     &  Divorced              &  Handlers-cleaners     &  Not-in-family         &  White                 &  Male                  & 0                      & 0                      & 40                     &  United-States         &  <=50K                \\\\\n",
       "\t 53                     &  Private               & 234721                 &  11th                  &  7                     &  Married-civ-spouse    &  Handlers-cleaners     &  Husband               &  Black                 &  Male                  & 0                      & 0                      & 40                     &  United-States         &  <=50K                \\\\\n",
       "\t 28                     &  Private               & 338409                 &  Bachelors             & 13                     &  Married-civ-spouse    &  Prof-specialty        &  Wife                  &  Black                 &  Female                & 0                      & 0                      & 40                     &  Cuba                  &  <=50K                \\\\\n",
       "\t 37                     &  Private               & 284582                 &  Masters               & 14                     &  Married-civ-spouse    &  Exec-managerial       &  Wife                  &  White                 &  Female                & 0                      & 0                      & 40                     &  United-States         &  <=50K                \\\\\n",
       "\t 49                     &  Private               & 160187                 &  9th                   &  5                     &  Married-spouse-absent &  Other-service         &  Not-in-family         &  Black                 &  Female                & 0                      & 0                      & 16                     &  Jamaica               &  <=50K                \\\\\n",
       "\t 52                     &  Self-emp-not-inc      & 209642                 &  HS-grad               &  9                     &  Married-civ-spouse    &  Exec-managerial       &  Husband               &  White                 &  Male                  & 0                      & 0                      & 45                     &  United-States         &  >50K                 \\\\\n",
       "\\end{tabular}\n"
      ],
      "text/markdown": [
       "\n",
       "X39 | State.gov | X77516 | Bachelors | X13 | Never.married | Adm.clerical | Not.in.family | White | Male | X2174 | X0 | X40 | United.States | X..50K | \n",
       "|---|---|---|---|---|---|---|\n",
       "| 50                     |  Self-emp-not-inc      |  83311                 |  Bachelors             | 13                     |  Married-civ-spouse    |  Exec-managerial       |  Husband               |  White                 |  Male                  | 0                      | 0                      | 13                     |  United-States         |  <=50K                 | \n",
       "| 38                     |  Private               | 215646                 |  HS-grad               |  9                     |  Divorced              |  Handlers-cleaners     |  Not-in-family         |  White                 |  Male                  | 0                      | 0                      | 40                     |  United-States         |  <=50K                 | \n",
       "| 53                     |  Private               | 234721                 |  11th                  |  7                     |  Married-civ-spouse    |  Handlers-cleaners     |  Husband               |  Black                 |  Male                  | 0                      | 0                      | 40                     |  United-States         |  <=50K                 | \n",
       "| 28                     |  Private               | 338409                 |  Bachelors             | 13                     |  Married-civ-spouse    |  Prof-specialty        |  Wife                  |  Black                 |  Female                | 0                      | 0                      | 40                     |  Cuba                  |  <=50K                 | \n",
       "| 37                     |  Private               | 284582                 |  Masters               | 14                     |  Married-civ-spouse    |  Exec-managerial       |  Wife                  |  White                 |  Female                | 0                      | 0                      | 40                     |  United-States         |  <=50K                 | \n",
       "| 49                     |  Private               | 160187                 |  9th                   |  5                     |  Married-spouse-absent |  Other-service         |  Not-in-family         |  Black                 |  Female                | 0                      | 0                      | 16                     |  Jamaica               |  <=50K                 | \n",
       "| 52                     |  Self-emp-not-inc      | 209642                 |  HS-grad               |  9                     |  Married-civ-spouse    |  Exec-managerial       |  Husband               |  White                 |  Male                  | 0                      | 0                      | 45                     |  United-States         |  >50K                  | \n",
       "\n",
       "\n"
      ],
      "text/plain": [
       "  X39 State.gov         X77516 Bachelors  X13 Never.married         \n",
       "1 50   Self-emp-not-inc  83311  Bachelors 13   Married-civ-spouse   \n",
       "2 38   Private          215646  HS-grad    9   Divorced             \n",
       "3 53   Private          234721  11th       7   Married-civ-spouse   \n",
       "4 28   Private          338409  Bachelors 13   Married-civ-spouse   \n",
       "5 37   Private          284582  Masters   14   Married-civ-spouse   \n",
       "6 49   Private          160187  9th        5   Married-spouse-absent\n",
       "7 52   Self-emp-not-inc 209642  HS-grad    9   Married-civ-spouse   \n",
       "  Adm.clerical       Not.in.family  White  Male    X2174 X0 X40 United.States \n",
       "1  Exec-managerial    Husband        White  Male   0     0  13   United-States\n",
       "2  Handlers-cleaners  Not-in-family  White  Male   0     0  40   United-States\n",
       "3  Handlers-cleaners  Husband        Black  Male   0     0  40   United-States\n",
       "4  Prof-specialty     Wife           Black  Female 0     0  40   Cuba         \n",
       "5  Exec-managerial    Wife           White  Female 0     0  40   United-States\n",
       "6  Other-service      Not-in-family  Black  Female 0     0  16   Jamaica      \n",
       "7  Exec-managerial    Husband        White  Male   0     0  45   United-States\n",
       "  X..50K\n",
       "1  <=50K\n",
       "2  <=50K\n",
       "3  <=50K\n",
       "4  <=50K\n",
       "5  <=50K\n",
       "6  <=50K\n",
       "7  >50K "
      ]
     },
     "metadata": {},
     "output_type": "display_data"
    }
   ],
   "source": [
    "head(dataset,7)"
   ]
  },
  {
   "cell_type": "code",
   "execution_count": 3,
   "metadata": {
    "scrolled": true
   },
   "outputs": [
    {
     "name": "stdout",
     "output_type": "stream",
     "text": [
      " [1] \"X39\"           \"State.gov\"     \"X77516\"        \"Bachelors\"    \n",
      " [5] \"X13\"           \"Never.married\" \"Adm.clerical\"  \"Not.in.family\"\n",
      " [9] \"White\"         \"Male\"          \"X2174\"         \"X0\"           \n",
      "[13] \"X40\"           \"United.States\" \"X..50K\"       \n"
     ]
    }
   ],
   "source": [
    "print(colnames(dataset))"
   ]
  },
  {
   "cell_type": "code",
   "execution_count": 9,
   "metadata": {},
   "outputs": [
    {
     "name": "stdout",
     "output_type": "stream",
     "text": [
      "  X39 State.gov X77516 Bachelors X13          Never.married\n",
      "6  49   Private 160187       9th   5  Married-spouse-absent\n",
      "    Adm.clerical  Not.in.family  White    Male X2174 X0 X40\n",
      "6  Other-service  Not-in-family  Black  Female     0  0  16\n",
      "  United.States X..50K\n",
      "6       Jamaica  <=50K\n"
     ]
    }
   ],
   "source": [
    "options(width=60)\n",
    "print(dataset[6,])"
   ]
  },
  {
   "cell_type": "code",
   "execution_count": 13,
   "metadata": {},
   "outputs": [
    {
     "data": {
      "text/html": [
       "<ol class=list-inline>\n",
       "\t<li>1</li>\n",
       "\t<li>2</li>\n",
       "\t<li>3</li>\n",
       "\t<li>4</li>\n",
       "\t<li>5</li>\n",
       "\t<li>6</li>\n",
       "\t<li>7</li>\n",
       "\t<li>8</li>\n",
       "\t<li>9</li>\n",
       "\t<li>10</li>\n",
       "\t<li>11</li>\n",
       "\t<li>12</li>\n",
       "\t<li>13</li>\n",
       "\t<li>14</li>\n",
       "\t<li>15</li>\n",
       "\t<li>16</li>\n",
       "</ol>\n"
      ],
      "text/latex": [
       "\\begin{enumerate*}\n",
       "\\item 1\n",
       "\\item 2\n",
       "\\item 3\n",
       "\\item 4\n",
       "\\item 5\n",
       "\\item 6\n",
       "\\item 7\n",
       "\\item 8\n",
       "\\item 9\n",
       "\\item 10\n",
       "\\item 11\n",
       "\\item 12\n",
       "\\item 13\n",
       "\\item 14\n",
       "\\item 15\n",
       "\\item 16\n",
       "\\end{enumerate*}\n"
      ],
      "text/markdown": [
       "1. 1\n",
       "2. 2\n",
       "3. 3\n",
       "4. 4\n",
       "5. 5\n",
       "6. 6\n",
       "7. 7\n",
       "8. 8\n",
       "9. 9\n",
       "10. 10\n",
       "11. 11\n",
       "12. 12\n",
       "13. 13\n",
       "14. 14\n",
       "15. 15\n",
       "16. 16\n",
       "\n",
       "\n"
      ],
      "text/plain": [
       " [1]  1  2  3  4  5  6  7  8  9 10 11 12 13 14 15 16"
      ]
     },
     "metadata": {},
     "output_type": "display_data"
    }
   ],
   "source": [
    "sort(unique(dataset$X13))"
   ]
  },
  {
   "cell_type": "code",
   "execution_count": 15,
   "metadata": {
    "scrolled": true
   },
   "outputs": [
    {
     "data": {
      "text/html": [
       "<ol class=list-inline>\n",
       "\t<li> 10th</li>\n",
       "\t<li> 11th</li>\n",
       "\t<li> 12th</li>\n",
       "\t<li> 1st-4th</li>\n",
       "\t<li> 5th-6th</li>\n",
       "\t<li> 7th-8th</li>\n",
       "\t<li> 9th</li>\n",
       "\t<li> Assoc-acdm</li>\n",
       "\t<li> Assoc-voc</li>\n",
       "\t<li> Bachelors</li>\n",
       "\t<li> Doctorate</li>\n",
       "\t<li> HS-grad</li>\n",
       "\t<li> Masters</li>\n",
       "\t<li> Preschool</li>\n",
       "\t<li> Prof-school</li>\n",
       "\t<li> Some-college</li>\n",
       "</ol>\n",
       "\n",
       "<details>\n",
       "\t<summary style=display:list-item;cursor:pointer>\n",
       "\t\t<strong>Levels</strong>:\n",
       "\t</summary>\n",
       "\t<ol class=list-inline>\n",
       "\t\t<li>' 10th'</li>\n",
       "\t\t<li>' 11th'</li>\n",
       "\t\t<li>' 12th'</li>\n",
       "\t\t<li>' 1st-4th'</li>\n",
       "\t\t<li>' 5th-6th'</li>\n",
       "\t\t<li>' 7th-8th'</li>\n",
       "\t\t<li>' 9th'</li>\n",
       "\t\t<li>' Assoc-acdm'</li>\n",
       "\t\t<li>' Assoc-voc'</li>\n",
       "\t\t<li>' Bachelors'</li>\n",
       "\t\t<li>' Doctorate'</li>\n",
       "\t\t<li>' HS-grad'</li>\n",
       "\t\t<li>' Masters'</li>\n",
       "\t\t<li>' Preschool'</li>\n",
       "\t\t<li>' Prof-school'</li>\n",
       "\t\t<li>' Some-college'</li>\n",
       "\t</ol>\n",
       "</details>"
      ],
      "text/latex": [
       "\\begin{enumerate*}\n",
       "\\item  10th\n",
       "\\item  11th\n",
       "\\item  12th\n",
       "\\item  1st-4th\n",
       "\\item  5th-6th\n",
       "\\item  7th-8th\n",
       "\\item  9th\n",
       "\\item  Assoc-acdm\n",
       "\\item  Assoc-voc\n",
       "\\item  Bachelors\n",
       "\\item  Doctorate\n",
       "\\item  HS-grad\n",
       "\\item  Masters\n",
       "\\item  Preschool\n",
       "\\item  Prof-school\n",
       "\\item  Some-college\n",
       "\\end{enumerate*}\n",
       "\n",
       "\\emph{Levels}: \\begin{enumerate*}\n",
       "\\item ' 10th'\n",
       "\\item ' 11th'\n",
       "\\item ' 12th'\n",
       "\\item ' 1st-4th'\n",
       "\\item ' 5th-6th'\n",
       "\\item ' 7th-8th'\n",
       "\\item ' 9th'\n",
       "\\item ' Assoc-acdm'\n",
       "\\item ' Assoc-voc'\n",
       "\\item ' Bachelors'\n",
       "\\item ' Doctorate'\n",
       "\\item ' HS-grad'\n",
       "\\item ' Masters'\n",
       "\\item ' Preschool'\n",
       "\\item ' Prof-school'\n",
       "\\item ' Some-college'\n",
       "\\end{enumerate*}\n"
      ],
      "text/markdown": [
       "1.  10th\n",
       "2.  11th\n",
       "3.  12th\n",
       "4.  1st-4th\n",
       "5.  5th-6th\n",
       "6.  7th-8th\n",
       "7.  9th\n",
       "8.  Assoc-acdm\n",
       "9.  Assoc-voc\n",
       "10.  Bachelors\n",
       "11.  Doctorate\n",
       "12.  HS-grad\n",
       "13.  Masters\n",
       "14.  Preschool\n",
       "15.  Prof-school\n",
       "16.  Some-college\n",
       "\n",
       "\n",
       "\n",
       "**Levels**: 1. ' 10th'\n",
       "2. ' 11th'\n",
       "3. ' 12th'\n",
       "4. ' 1st-4th'\n",
       "5. ' 5th-6th'\n",
       "6. ' 7th-8th'\n",
       "7. ' 9th'\n",
       "8. ' Assoc-acdm'\n",
       "9. ' Assoc-voc'\n",
       "10. ' Bachelors'\n",
       "11. ' Doctorate'\n",
       "12. ' HS-grad'\n",
       "13. ' Masters'\n",
       "14. ' Preschool'\n",
       "15. ' Prof-school'\n",
       "16. ' Some-college'\n",
       "\n",
       "\n"
      ],
      "text/plain": [
       " [1]  10th          11th          12th          1st-4th     \n",
       " [5]  5th-6th       7th-8th       9th           Assoc-acdm  \n",
       " [9]  Assoc-voc     Bachelors     Doctorate     HS-grad     \n",
       "[13]  Masters       Preschool     Prof-school   Some-college\n",
       "16 Levels:  10th  11th  12th  1st-4th  5th-6th ...  Some-college"
      ]
     },
     "metadata": {},
     "output_type": "display_data"
    }
   ],
   "source": [
    "sort(unique(dataset$Bachelors))"
   ]
  },
  {
   "cell_type": "code",
   "execution_count": 19,
   "metadata": {},
   "outputs": [
    {
     "data": {
      "text/html": [
       "<ol class=list-inline>\n",
       "\t<li>' &lt;=50K'</li>\n",
       "\t<li>' &gt;50K'</li>\n",
       "</ol>\n"
      ],
      "text/latex": [
       "\\begin{enumerate*}\n",
       "\\item ' <=50K'\n",
       "\\item ' >50K'\n",
       "\\end{enumerate*}\n"
      ],
      "text/markdown": [
       "1. ' &lt;=50K'\n",
       "2. ' &gt;50K'\n",
       "\n",
       "\n"
      ],
      "text/plain": [
       "[1] \" <=50K\" \" >50K\" "
      ]
     },
     "metadata": {},
     "output_type": "display_data"
    }
   ],
   "source": [
    "as.character(unique(dataset$X..50K))"
   ]
  },
  {
   "cell_type": "code",
   "execution_count": 40,
   "metadata": {},
   "outputs": [
    {
     "name": "stdout",
     "output_type": "stream",
     "text": [
      "  edu income\n",
      "1  13  <=50K\n",
      "2   9  <=50K\n",
      "3   7  <=50K\n",
      "4  13  <=50K\n",
      "5  14  <=50K\n",
      "6   5  <=50K\n",
      "7   9   >50K\n",
      "8  14   >50K\n"
     ]
    }
   ],
   "source": [
    "edu=dataset$X13\n",
    "income=dataset$X..50K\n",
    "newdata=data.frame(edu,income)\n",
    "print(head(newdata,8))"
   ]
  },
  {
   "cell_type": "code",
   "execution_count": 24,
   "metadata": {},
   "outputs": [],
   "source": [
    "library(plyr)"
   ]
  },
  {
   "cell_type": "code",
   "execution_count": 47,
   "metadata": {},
   "outputs": [
    {
     "name": "stdout",
     "output_type": "stream",
     "text": [
      "  edu income\n",
      "1  13      0\n",
      "2   9      0\n",
      "3   7      0\n",
      "4  13      0\n",
      "5  14      0\n",
      "6   5      0\n",
      "7   9      1\n",
      "8  14      1\n"
     ]
    }
   ],
   "source": [
    "P = revalue(income,(c(\" <=50K\"=0)))\n",
    "Q = revalue(P,(c(\" >50K\"=1)))\n",
    "income = as.numeric(as.character(Q))\n",
    "newdata = data.frame(edu,income)\n",
    "print(head(newdata,8))"
   ]
  },
  {
   "cell_type": "code",
   "execution_count": 48,
   "metadata": {},
   "outputs": [],
   "source": [
    "nvals=nrow(newdata)\n",
    "ind=sample(1:nvals, .75*nvals)\n",
    "\n",
    "train=newdata[ind,]\n",
    "test=newdata[-ind,]"
   ]
  },
  {
   "cell_type": "code",
   "execution_count": 66,
   "metadata": {},
   "outputs": [
    {
     "data": {
      "image/png": "[encoded data removed]",
      "text/plain": [
       "Plot with title “Above $50,000/Year”"
      ]
     },
     "metadata": {},
     "output_type": "display_data"
    },
    {
     "data": {
      "image/png": "[encoded data removed]",
      "text/plain": [
       "Plot with title “Below $50,000/Year”"
      ]
     },
     "metadata": {},
     "output_type": "display_data"
    }
   ],
   "source": [
    "hiincome=newdata[newdata$income==1,]\n",
    "options(repr.plot.width=8, repr.plot.height=4.5)\n",
    "#pdf(\"edu-vis-inc-histograms.pdf\",width=7,height=4)\n",
    "hist(hiincome$edu,main=\"Above $50,000/Year\",xlab=\"Education\", xlim=c(1,16))\n",
    "axis(side=1,at=seq(1,16))\n",
    "loincome=newdata[newdata$income==0,]\n",
    "hist(loincome$edu, main=\"Below $50,000/Year\", xlab=\"Education\")\n",
    "axis(side=1,at=seq(1,16))\n",
    "#dev.off()"
   ]
  },
  {
   "cell_type": "markdown",
   "metadata": {},
   "source": [
    "## Do the logistic regression"
   ]
  },
  {
   "cell_type": "code",
   "execution_count": 67,
   "metadata": {},
   "outputs": [],
   "source": [
    "model=glm(income~edu, data=train, family=binomial)"
   ]
  },
  {
   "cell_type": "code",
   "execution_count": 68,
   "metadata": {},
   "outputs": [
    {
     "name": "stdout",
     "output_type": "stream",
     "text": [
      "\n",
      "Call:  glm(formula = income ~ edu, family = binomial, data = train)\n",
      "\n",
      "Coefficients:\n",
      "(Intercept)          edu  \n",
      "    -5.0019       0.3628  \n",
      "\n",
      "Degrees of Freedom: 24419 Total (i.e. Null);  24418 Residual\n",
      "Null Deviance:\t    27000 \n",
      "Residual Deviance: 24000 \tAIC: 24000\n"
     ]
    }
   ],
   "source": [
    "print(model)"
   ]
  },
  {
   "cell_type": "code",
   "execution_count": 69,
   "metadata": {},
   "outputs": [],
   "source": [
    "edu=seq(1,16,by=.1)\n",
    "predictinput=data.frame(edu)\n",
    "pre.model=predict(model,newdata=predictinput, type=\"response\")"
   ]
  },
  {
   "cell_type": "code",
   "execution_count": 91,
   "metadata": {
    "scrolled": false
   },
   "outputs": [
    {
     "data": {
      "image/png": "[encoded data removed]",
      "text/plain": [
       "plot without title"
      ]
     },
     "metadata": {},
     "output_type": "display_data"
    }
   ],
   "source": [
    "#pdf(\"logistic-regression-income-edu.pdf\", width=8,height=4)\n",
    "options(repr.plot.width=8, repr.plot.height=4.5)\n",
    "plot(edu,pre.model,type=\"l\",xlab=\"Years of Education\",\n",
    "     ylab=\"Probability\", ylim=c(0,1))\n",
    "points(train$edu, train$income)\n",
    "abline(h=c(.5), v=c(5.0019/.3628), lty=\"dashed\")\n",
    "text(5,0.85,\"Incorrectly predicted <50K\",cex=.8)\n",
    "text(5,0.15,\"Correctly predicted <50K\",cex=.8)\n",
    "text(15.25,0.15,\"Incorrectly\\nPredicted >50K\", cex=.8)\n",
    "text(15.25,0.85,\"Correctly\\nPredicted >50K\", cex=.8)\n",
    "axis(side=1,at=seq(1,16))\n",
    "grid()\n",
    "#dev.off()"
   ]
  },
  {
   "cell_type": "code",
   "execution_count": null,
   "metadata": {
    "scrolled": false
   },
   "outputs": [],
   "source": []
  },
  {
   "cell_type": "code",
   "execution_count": 92,
   "metadata": {},
   "outputs": [
    {
     "name": "stderr",
     "output_type": "stream",
     "text": [
      "Loading required package: lattice\n",
      "Loading required package: ggplot2\n"
     ]
    }
   ],
   "source": [
    "library(caret)"
   ]
  },
  {
   "cell_type": "code",
   "execution_count": 93,
   "metadata": {},
   "outputs": [],
   "source": [
    "pre=predict(model,newdata=test,type=\"response\")"
   ]
  },
  {
   "cell_type": "code",
   "execution_count": 94,
   "metadata": {
    "scrolled": true
   },
   "outputs": [
    {
     "data": {
      "text/html": [
       "<ol class=list-inline>\n",
       "\t<li>'0'</li>\n",
       "\t<li>'1'</li>\n",
       "</ol>\n"
      ],
      "text/latex": [
       "\\begin{enumerate*}\n",
       "\\item '0'\n",
       "\\item '1'\n",
       "\\end{enumerate*}\n"
      ],
      "text/markdown": [
       "1. '0'\n",
       "2. '1'\n",
       "\n",
       "\n"
      ],
      "text/plain": [
       "[1] \"0\" \"1\""
      ]
     },
     "metadata": {},
     "output_type": "display_data"
    }
   ],
   "source": [
    "levels(as.factor(as.numeric(pre>.5)))"
   ]
  },
  {
   "cell_type": "code",
   "execution_count": null,
   "metadata": {},
   "outputs": [],
   "source": [
    "levels(as.factor(test$income))"
   ]
  },
  {
   "cell_type": "code",
   "execution_count": 95,
   "metadata": {},
   "outputs": [
    {
     "data": {
      "text/plain": [
       "Confusion Matrix and Statistics\n",
       "\n",
       "          Reference\n",
       "Prediction    0    1\n",
       "         0 5941 1511\n",
       "         1  256  432\n",
       "                                          \n",
       "               Accuracy : 0.7829          \n",
       "                 95% CI : (0.7738, 0.7918)\n",
       "    No Information Rate : 0.7613          \n",
       "    P-Value [Acc > NIR] : 2.011e-06       \n",
       "                                          \n",
       "                  Kappa : 0.2326          \n",
       " Mcnemar's Test P-Value : < 2.2e-16       \n",
       "                                          \n",
       "            Sensitivity : 0.9587          \n",
       "            Specificity : 0.2223          \n",
       "         Pos Pred Value : 0.7972          \n",
       "         Neg Pred Value : 0.6279          \n",
       "             Prevalence : 0.7613          \n",
       "         Detection Rate : 0.7299          \n",
       "   Detection Prevalence : 0.9155          \n",
       "      Balanced Accuracy : 0.5905          \n",
       "                                          \n",
       "       'Positive' Class : 0               \n",
       "                                          "
      ]
     },
     "metadata": {},
     "output_type": "display_data"
    }
   ],
   "source": [
    "confusionMatrix(data=as.factor(as.numeric(pre>.5)),\n",
    "               reference=as.factor(test$income))"
   ]
  },
  {
   "cell_type": "code",
   "execution_count": null,
   "metadata": {},
   "outputs": [],
   "source": [
    "#install.packages(\"pROC\")"
   ]
  },
  {
   "cell_type": "code",
   "execution_count": 102,
   "metadata": {
    "scrolled": false
   },
   "outputs": [
    {
     "name": "stderr",
     "output_type": "stream",
     "text": [
      "Type 'citation(\"pROC\")' for a citation.\n",
      "\n",
      "Attaching package: ‘pROC’\n",
      "\n",
      "The following objects are masked from ‘package:stats’:\n",
      "\n",
      "    cov, smooth, var\n",
      "\n"
     ]
    }
   ],
   "source": [
    "library(pROC)"
   ]
  },
  {
   "cell_type": "code",
   "execution_count": 108,
   "metadata": {},
   "outputs": [
    {
     "name": "stdout",
     "output_type": "stream",
     "text": [
      "\n",
      "Call:\n",
      "roc.default(response = test$income, predictor = pre)\n",
      "\n",
      "Data: pre in 6197 controls (test$income 0) < 1943 cases (test$income 1).\n",
      "Area under the curve: 0.7206\n"
     ]
    }
   ],
   "source": [
    "r=roc(test$income,pre)\n",
    "print(r)"
   ]
  },
  {
   "cell_type": "code",
   "execution_count": 104,
   "metadata": {},
   "outputs": [],
   "source": [
    "f=roc(test$income,pre)\n",
    "fallout=1-f$spec\n",
    "recall=f$sens"
   ]
  },
  {
   "cell_type": "code",
   "execution_count": 109,
   "metadata": {
    "scrolled": false
   },
   "outputs": [
    {
     "data": {
      "image/png": "[encoded data removed]",
      "text/plain": [
       "plot without title"
      ]
     },
     "metadata": {},
     "output_type": "display_data"
    }
   ],
   "source": [
    "options(repr.plot.width=5, repr.plot.height=5.5)\n",
    "#pdf(\"ROC-edu-income.pdf\")\n",
    "plot(fallout,recall,type=\"l\")\n",
    "lines(0:1,0:1,lty=\"dotted\")\n",
    "abline(h=seq(0,1,by=.2), v=seq(0,1,by=.2), lwd=.2)\n",
    "#dev.off()"
   ]
  },
  {
   "cell_type": "markdown",
   "metadata": {},
   "source": [
    "## Code to build ROC and AUC from first principals"
   ]
  },
  {
   "cell_type": "code",
   "execution_count": 96,
   "metadata": {},
   "outputs": [],
   "source": [
    "ev=test$income"
   ]
  },
  {
   "cell_type": "code",
   "execution_count": 97,
   "metadata": {},
   "outputs": [],
   "source": [
    "pv=pre"
   ]
  },
  {
   "cell_type": "markdown",
   "metadata": {},
   "source": []
  },
  {
   "cell_type": "code",
   "execution_count": 98,
   "metadata": {},
   "outputs": [],
   "source": [
    "my.roc=function(Examples,Pred){\n",
    "    P=sum(Examples==1)\n",
    "    N=sum(Examples==0)\n",
    "    N.pts=P+N\n",
    "    # sort data by pred\n",
    "    temp=data.frame(Examples,Pred)\n",
    "    temp=temp[order(-Pred),]\n",
    "    #\n",
    "    L=temp$Examples\n",
    "    f=temp$Pred\n",
    "    #\n",
    "    FP=0; TP=0;  \n",
    "    R.x=rep(0,N.pts)\n",
    "    R.y=rep(0,N.pts)\n",
    "    f.previous=-99999 # - infinity\n",
    "    j=1\n",
    "    #\n",
    "    AUC=0\n",
    "    for (i in 1:N.pts){\n",
    "        if(f[i]!=f.previous){\n",
    "            R.x[j]=FP/N\n",
    "            R.y[j]=TP/P\n",
    "            j=j+1\n",
    "            f.previous=f[i]\n",
    "        }\n",
    "        if(L[i]>0.5){\n",
    "            TP=TP+1\n",
    "        }\n",
    "        else{\n",
    "            FP=FP+1\n",
    "        }\n",
    "    }\n",
    "    R.x[j]=FP/N\n",
    "    R.y[j]=TP/P \n",
    "    fallout=head(R.x,j)\n",
    "    recall=head(R.y,j)\n",
    "    data.frame(fallout,recall)\n",
    "}\n",
    "\n",
    "r=my.roc(ev,pv)"
   ]
  },
  {
   "cell_type": "code",
   "execution_count": 99,
   "metadata": {},
   "outputs": [
    {
     "data": {
      "text/html": [
       "0.72055327686242"
      ],
      "text/latex": [
       "0.72055327686242"
      ],
      "text/markdown": [
       "0.72055327686242"
      ],
      "text/plain": [
       "[1] 0.7205533"
      ]
     },
     "metadata": {},
     "output_type": "display_data"
    }
   ],
   "source": [
    "my.AUC=function(roc){\n",
    "    x=roc$fallout\n",
    "    y=roc$recall\n",
    "    AUC=0\n",
    "    for (i in 2:nrow(roc)){\n",
    "        AUC = AUC + 0.5*abs(x[i]-x[i-1])*(y[i]+y[i-1])\n",
    "    }\n",
    "    AUC\n",
    "}\n",
    "my.AUC(r)"
   ]
  },
  {
   "cell_type": "code",
   "execution_count": 101,
   "metadata": {
    "scrolled": false
   },
   "outputs": [
    {
     "data": {
      "image/png": "[encoded data removed]",
      "text/plain": [
       "plot without title"
      ]
     },
     "metadata": {},
     "output_type": "display_data"
    }
   ],
   "source": [
    "options(repr.plot.width=5, repr.plot.height=5.5)\n",
    "plot(r$fallout,r$recall,type=\"l\")"
   ]
  },
  {
   "cell_type": "code",
   "execution_count": null,
   "metadata": {},
   "outputs": [],
   "source": []
  }
 ],
 "metadata": {
  "kernelspec": {
   "display_name": "R",
   "language": "R",
   "name": "ir"
  },
  "language_info": {
   "codemirror_mode": "r",
   "file_extension": ".r",
   "mimetype": "text/x-r-source",
   "name": "R",
   "pygments_lexer": "r",
   "version": "3.4.4"
  }
 },
 "nbformat": 4,
 "nbformat_minor": 2
}
